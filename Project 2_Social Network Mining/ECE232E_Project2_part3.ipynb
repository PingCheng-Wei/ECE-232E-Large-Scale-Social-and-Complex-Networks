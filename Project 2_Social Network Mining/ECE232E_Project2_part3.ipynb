{
 "cells": [
  {
   "cell_type": "markdown",
   "metadata": {
    "id": "F2lxa77JAUL_"
   },
   "source": [
    "# 3. Cora dataset"
   ]
  },
  {
   "cell_type": "markdown",
   "metadata": {
    "id": "nMC1hmrLAek1"
   },
   "source": [
    "<div class=\"alert alert-block alert-success\">\n",
    "<b>Question 23:</b> Idea 1\n",
    "\n",
    "Use Graph Convolutional Networks [1]. What hyperparameters do you choose to get the optimal performance? How many layers did you choose?\n",
    "</div>"
   ]
  },
  {
   "cell_type": "code",
   "execution_count": null,
   "metadata": {
    "id": "1lJglMP1CGMK"
   },
   "outputs": [],
   "source": [
    "!pip install spektral    # dont mention version\n",
    "!pip install Keras       # dont mention version\n",
    "!pip install tensorflow  # dont mention version"
   ]
  },
  {
   "cell_type": "code",
   "execution_count": null,
   "metadata": {
    "id": "EOubK4ykCW5e"
   },
   "outputs": [],
   "source": [
    "import numpy as np\n",
    "import os\n",
    "import networkx as nx\n",
    "from keras.utils import to_categorical\n",
    "from sklearn.preprocessing import LabelEncoder\n",
    "from sklearn.utils import shuffle\n",
    "from sklearn.metrics import classification_report\n",
    "\n",
    "from spektral.layers import GCNConv #previously it was GraphConv\n",
    "\n",
    "from tensorflow.keras.models import Model\n",
    "from tensorflow.keras.layers import Input, Dropout, Dense\n",
    "from tensorflow.keras import Sequential\n",
    "from tensorflow.keras.optimizers import Adam\n",
    "from tensorflow.keras.callbacks import TensorBoard, EarlyStopping\n",
    "import tensorflow as tf\n",
    "from tensorflow.keras.regularizers import l2\n",
    "\n",
    "from collections import Counter\n",
    "from sklearn.manifold import TSNE\n",
    "import matplotlib.pyplot as plt"
   ]
  },
  {
   "cell_type": "code",
   "execution_count": null,
   "metadata": {
    "id": "4roCE6xnAd4z"
   },
   "outputs": [],
   "source": [
    "all_data = []\n",
    "all_edges = []\n",
    "\n",
    "for root,dirs,files in os.walk('./cora'):\n",
    "    for file in files:\n",
    "        if '.content' in file:\n",
    "            with open(os.path.join(root,file),'r') as f:\n",
    "                all_data.extend(f.read().splitlines())\n",
    "        elif 'cites' in file:\n",
    "            with open(os.path.join(root,file),'r') as f:\n",
    "                all_edges.extend(f.read().splitlines())\n",
    "\n",
    "all_data = shuffle(all_data,random_state=42)"
   ]
  },
  {
   "cell_type": "code",
   "execution_count": null,
   "metadata": {
    "colab": {
     "base_uri": "https://localhost:8080/"
    },
    "id": "_F6JU6NBDVR1",
    "outputId": "4b5677b6-2973-4d80-cdbf-6586248e8a1e"
   },
   "outputs": [
    {
     "name": "stdout",
     "output_type": "stream",
     "text": [
      "X shape:  (2708, 1433)\n",
      "\n",
      "Number of nodes (N):  2708\n",
      "\n",
      "Number of features (F) of each node:  1433\n",
      "\n",
      "Categories:  {'Theory', 'Case_Based', 'Probabilistic_Methods', 'Rule_Learning', 'Genetic_Algorithms', 'Neural_Networks', 'Reinforcement_Learning'}\n",
      "\n",
      "Number of classes:  7\n"
     ]
    }
   ],
   "source": [
    "labels = []\n",
    "nodes = []\n",
    "X = []\n",
    "\n",
    "for i,data in enumerate(all_data):\n",
    "    elements = data.split('\\t')\n",
    "    labels.append(elements[-1])\n",
    "    X.append(elements[1:-1])\n",
    "    nodes.append(elements[0])\n",
    "\n",
    "X = np.array(X,dtype=int)\n",
    "N = X.shape[0] \n",
    "F = X.shape[1]\n",
    "print('X shape: ', X.shape)\n",
    "\n",
    "\n",
    "#parse the edge\n",
    "edge_list=[]\n",
    "for edge in all_edges:\n",
    "    e = edge.split('\\t')\n",
    "    edge_list.append((e[0],e[1]))\n",
    "\n",
    "print('\\nNumber of nodes (N): ', N)\n",
    "print('\\nNumber of features (F) of each node: ', F)\n",
    "print('\\nCategories: ', set(labels))\n",
    "\n",
    "num_classes = len(set(labels))\n",
    "print('\\nNumber of classes: ', num_classes)"
   ]
  },
  {
   "cell_type": "code",
   "execution_count": null,
   "metadata": {
    "colab": {
     "base_uri": "https://localhost:8080/"
    },
    "id": "ipu60-1RDe7F",
    "outputId": "38c15854-df7f-483e-e748-a514c5142f73"
   },
   "outputs": [
    {
     "name": "stdout",
     "output_type": "stream",
     "text": [
      "Number of nodes 2708\n",
      "Number of edges 5278\n",
      "Average degree 3.8980797636632203\n"
     ]
    }
   ],
   "source": [
    "G = nx.Graph()\n",
    "G.add_nodes_from(nodes)\n",
    "G.add_edges_from(edge_list)\n",
    "\n",
    "A = nx.adjacency_matrix(G)\n",
    "\n",
    "# module 'networkx' has no attribute 'info', which has been removed\n",
    "# print('Graph info: ', nx.info(G)) \n",
    "# instead, use the following\n",
    "print('Number of nodes', len(G.nodes))\n",
    "print('Number of edges', len(G.edges))\n",
    "print('Average degree', sum(dict(G.degree).values()) / len(G.nodes))"
   ]
  },
  {
   "cell_type": "code",
   "execution_count": null,
   "metadata": {
    "id": "mm_GWdp9EliZ"
   },
   "outputs": [],
   "source": [
    "# get 20 train instances per class\n",
    "# remaining instances are in validation and test set\n",
    "train_num = 20\n",
    "val_num = 500\n",
    "test_num = 1000\n",
    "\n",
    "label_counter = dict((l, 0) for l in labels)\n",
    "train_idx = []\n",
    "\n",
    "# get training set\n",
    "for i in range(len(labels)):\n",
    "    label = labels[i]\n",
    "    if label_counter[label] < train_num:\n",
    "        train_idx.append(i)\n",
    "        label_counter[label]+=1\n",
    "    if all(count == train_num for count in label_counter.values()):\n",
    "        break\n",
    "\n",
    "# get validation and test set\n",
    "rest_idx = [x for x in range(len(labels)) if x not in train_idx]\n",
    "val_idx = rest_idx[:val_num]\n",
    "test_idx = rest_idx[val_num:(val_num+test_num)]\n",
    "\n",
    "# set the mask\n",
    "train_mask = np.zeros((N,), dtype=bool)\n",
    "train_mask[train_idx] = True\n",
    "\n",
    "val_mask = np.zeros((N,), dtype=bool)\n",
    "val_mask[val_idx] = True\n",
    "\n",
    "test_mask = np.zeros((N,), dtype=bool)\n",
    "test_mask[test_idx] = True"
   ]
  },
  {
   "cell_type": "code",
   "execution_count": null,
   "metadata": {
    "id": "TaUe2AvKMHcy"
   },
   "outputs": [],
   "source": [
    "# convert the labels to one hot encoding\n",
    "label_encoder = LabelEncoder()\n",
    "labels_encoded = label_encoder.fit_transform(labels)\n",
    "labels_encoded = to_categorical(labels_encoded)\n",
    "classes = label_encoder.classes_"
   ]
  },
  {
   "cell_type": "code",
   "execution_count": null,
   "metadata": {
    "colab": {
     "base_uri": "https://localhost:8080/"
    },
    "id": "C6VuEPgiESBI",
    "outputId": "7503b694-d31c-4a4c-d926-33682e384a5e"
   },
   "outputs": [
    {
     "name": "stdout",
     "output_type": "stream",
     "text": [
      "Model: \"model\"\n",
      "__________________________________________________________________________________________________\n",
      " Layer (type)                   Output Shape         Param #     Connected to                     \n",
      "==================================================================================================\n",
      " input_1 (InputLayer)           [(None, 1433)]       0           []                               \n",
      "                                                                                                  \n",
      " dropout (Dropout)              (None, 1433)         0           ['input_1[0][0]']                \n",
      "                                                                                                  \n",
      " input_2 (InputLayer)           [(None, 2708)]       0           []                               \n",
      "                                                                                                  \n",
      " gcn_conv (GCNConv)             (None, 16)           22928       ['dropout[0][0]',                \n",
      "                                                                  'input_2[0][0]']                \n",
      "                                                                                                  \n",
      " dropout_1 (Dropout)            (None, 16)           0           ['gcn_conv[0][0]']               \n",
      "                                                                                                  \n",
      " gcn_conv_1 (GCNConv)           (None, 7)            112         ['dropout_1[0][0]',              \n",
      "                                                                  'input_2[0][0]']                \n",
      "                                                                                                  \n",
      "==================================================================================================\n",
      "Total params: 23,040\n",
      "Trainable params: 23,040\n",
      "Non-trainable params: 0\n",
      "__________________________________________________________________________________________________\n"
     ]
    }
   ],
   "source": [
    "# Parameters\n",
    "channels = 16           \n",
    "dropout = 0.5         \n",
    "l2_reg = 5e-4           \n",
    "learning_rate = 1e-2\n",
    "epochs = 200    \n",
    "es_patience = 10\n",
    "\n",
    "# Model definition\n",
    "A = GCNConv.preprocess(A).astype('f4')\n",
    "\n",
    "X_in = Input(shape=(F, ))\n",
    "fltr_in = Input((N, ), sparse=True)\n",
    "\n",
    "dropout_1 = Dropout(dropout)(X_in)\n",
    "graph_conv_1 = GCNConv(channels,\n",
    "                       activation='relu',\n",
    "                       kernel_regularizer=l2(l2_reg),\n",
    "                       use_bias=False)([dropout_1, fltr_in])\n",
    "\n",
    "dropout_2 = Dropout(dropout)(graph_conv_1)\n",
    "graph_conv_2 = GCNConv(num_classes,\n",
    "                       activation='softmax',\n",
    "                       use_bias=False)([dropout_2, fltr_in])\n",
    "                       \n",
    "model = Model(inputs=[X_in, fltr_in], outputs=graph_conv_2)\n",
    "optimizer = Adam(learning_rate=learning_rate)\n",
    "model.compile(optimizer=optimizer,\n",
    "              loss='categorical_crossentropy',\n",
    "              weighted_metrics=['acc'])\n",
    "model.summary()\n",
    "\n",
    "tbCallBack_GCN = tf.keras.callbacks.TensorBoard(\n",
    "    log_dir='./Tensorboard_GCN_cora',\n",
    ")\n",
    "callback_GCN = [tbCallBack_GCN]"
   ]
  },
  {
   "cell_type": "code",
   "execution_count": null,
   "metadata": {
    "colab": {
     "base_uri": "https://localhost:8080/"
    },
    "id": "sslREqIZKkkN",
    "outputId": "af0d6c04-d4cf-409d-d340-e6b56f427680",
    "scrolled": false
   },
   "outputs": [
    {
     "name": "stdout",
     "output_type": "stream",
     "text": [
      "Epoch 1/200\n",
      "1/1 [==============================] - 3s 3s/step - loss: 0.1165 - acc: 0.1643 - val_loss: 0.3640 - val_acc: 0.3780\n",
      "Epoch 2/200\n",
      "1/1 [==============================] - 0s 245ms/step - loss: 0.1099 - acc: 0.2857 - val_loss: 0.3526 - val_acc: 0.5600\n",
      "Epoch 3/200\n",
      "1/1 [==============================] - 0s 239ms/step - loss: 0.1029 - acc: 0.5000 - val_loss: 0.3405 - val_acc: 0.6200\n",
      "Epoch 4/200\n",
      "1/1 [==============================] - 0s 246ms/step - loss: 0.0968 - acc: 0.7071 - val_loss: 0.3294 - val_acc: 0.6440\n",
      "Epoch 5/200\n",
      "1/1 [==============================] - 0s 268ms/step - loss: 0.0910 - acc: 0.7071 - val_loss: 0.3187 - val_acc: 0.6680\n",
      "Epoch 6/200\n",
      "1/1 [==============================] - 0s 357ms/step - loss: 0.0869 - acc: 0.7643 - val_loss: 0.3086 - val_acc: 0.6860\n",
      "Epoch 7/200\n",
      "1/1 [==============================] - 0s 256ms/step - loss: 0.0827 - acc: 0.7857 - val_loss: 0.2993 - val_acc: 0.7000\n",
      "Epoch 8/200\n",
      "1/1 [==============================] - 0s 225ms/step - loss: 0.0789 - acc: 0.8214 - val_loss: 0.2908 - val_acc: 0.7180\n",
      "Epoch 9/200\n",
      "1/1 [==============================] - 0s 222ms/step - loss: 0.0742 - acc: 0.8571 - val_loss: 0.2823 - val_acc: 0.7420\n",
      "Epoch 10/200\n",
      "1/1 [==============================] - 0s 149ms/step - loss: 0.0725 - acc: 0.9214 - val_loss: 0.2739 - val_acc: 0.7540\n",
      "Epoch 11/200\n",
      "1/1 [==============================] - 0s 152ms/step - loss: 0.0710 - acc: 0.8429 - val_loss: 0.2664 - val_acc: 0.7580\n",
      "Epoch 12/200\n",
      "1/1 [==============================] - 0s 149ms/step - loss: 0.0703 - acc: 0.8500 - val_loss: 0.2589 - val_acc: 0.7700\n",
      "Epoch 13/200\n",
      "1/1 [==============================] - 0s 153ms/step - loss: 0.0685 - acc: 0.9000 - val_loss: 0.2513 - val_acc: 0.7720\n",
      "Epoch 14/200\n",
      "1/1 [==============================] - 0s 181ms/step - loss: 0.0686 - acc: 0.8500 - val_loss: 0.2441 - val_acc: 0.7720\n",
      "Epoch 15/200\n",
      "1/1 [==============================] - 0s 144ms/step - loss: 0.0631 - acc: 0.9071 - val_loss: 0.2374 - val_acc: 0.7760\n",
      "Epoch 16/200\n",
      "1/1 [==============================] - 0s 151ms/step - loss: 0.0638 - acc: 0.9143 - val_loss: 0.2314 - val_acc: 0.7740\n",
      "Epoch 17/200\n",
      "1/1 [==============================] - 0s 220ms/step - loss: 0.0632 - acc: 0.8929 - val_loss: 0.2256 - val_acc: 0.7820\n",
      "Epoch 18/200\n",
      "1/1 [==============================] - 0s 154ms/step - loss: 0.0613 - acc: 0.9071 - val_loss: 0.2205 - val_acc: 0.7920\n",
      "Epoch 19/200\n",
      "1/1 [==============================] - 0s 157ms/step - loss: 0.0579 - acc: 0.9143 - val_loss: 0.2161 - val_acc: 0.7920\n",
      "Epoch 20/200\n",
      "1/1 [==============================] - 0s 163ms/step - loss: 0.0579 - acc: 0.9214 - val_loss: 0.2125 - val_acc: 0.7920\n",
      "Epoch 21/200\n",
      "1/1 [==============================] - 0s 173ms/step - loss: 0.0541 - acc: 0.9214 - val_loss: 0.2094 - val_acc: 0.7900\n",
      "Epoch 22/200\n",
      "1/1 [==============================] - 0s 153ms/step - loss: 0.0542 - acc: 0.9071 - val_loss: 0.2063 - val_acc: 0.7860\n",
      "Epoch 23/200\n",
      "1/1 [==============================] - 0s 154ms/step - loss: 0.0571 - acc: 0.9000 - val_loss: 0.2036 - val_acc: 0.7820\n",
      "Epoch 24/200\n",
      "1/1 [==============================] - 0s 146ms/step - loss: 0.0515 - acc: 0.9500 - val_loss: 0.2007 - val_acc: 0.7860\n",
      "Epoch 25/200\n",
      "1/1 [==============================] - 0s 153ms/step - loss: 0.0516 - acc: 0.9286 - val_loss: 0.1975 - val_acc: 0.7920\n",
      "Epoch 26/200\n",
      "1/1 [==============================] - 0s 144ms/step - loss: 0.0533 - acc: 0.9071 - val_loss: 0.1938 - val_acc: 0.7960\n",
      "Epoch 27/200\n",
      "1/1 [==============================] - 0s 148ms/step - loss: 0.0516 - acc: 0.9000 - val_loss: 0.1901 - val_acc: 0.7960\n",
      "Epoch 28/200\n",
      "1/1 [==============================] - 0s 154ms/step - loss: 0.0520 - acc: 0.8786 - val_loss: 0.1865 - val_acc: 0.7980\n",
      "Epoch 29/200\n",
      "1/1 [==============================] - 0s 149ms/step - loss: 0.0462 - acc: 0.9429 - val_loss: 0.1838 - val_acc: 0.8000\n",
      "Epoch 30/200\n",
      "1/1 [==============================] - 0s 156ms/step - loss: 0.0470 - acc: 0.9286 - val_loss: 0.1811 - val_acc: 0.8060\n",
      "Epoch 31/200\n",
      "1/1 [==============================] - 0s 145ms/step - loss: 0.0454 - acc: 0.9643 - val_loss: 0.1794 - val_acc: 0.8060\n",
      "Epoch 32/200\n",
      "1/1 [==============================] - 0s 156ms/step - loss: 0.0453 - acc: 0.9429 - val_loss: 0.1778 - val_acc: 0.8040\n",
      "Epoch 33/200\n",
      "1/1 [==============================] - 0s 144ms/step - loss: 0.0483 - acc: 0.9000 - val_loss: 0.1762 - val_acc: 0.8100\n",
      "Epoch 34/200\n",
      "1/1 [==============================] - 0s 227ms/step - loss: 0.0459 - acc: 0.9286 - val_loss: 0.1748 - val_acc: 0.8200\n",
      "Epoch 35/200\n",
      "1/1 [==============================] - 0s 147ms/step - loss: 0.0416 - acc: 0.9643 - val_loss: 0.1740 - val_acc: 0.8120\n",
      "Epoch 36/200\n",
      "1/1 [==============================] - 0s 250ms/step - loss: 0.0460 - acc: 0.9500 - val_loss: 0.1733 - val_acc: 0.8080\n",
      "Epoch 37/200\n",
      "1/1 [==============================] - 0s 314ms/step - loss: 0.0448 - acc: 0.9571 - val_loss: 0.1724 - val_acc: 0.8040\n",
      "Epoch 38/200\n",
      "1/1 [==============================] - 0s 240ms/step - loss: 0.0410 - acc: 0.9571 - val_loss: 0.1714 - val_acc: 0.8040\n",
      "Epoch 39/200\n",
      "1/1 [==============================] - 0s 241ms/step - loss: 0.0412 - acc: 0.9571 - val_loss: 0.1700 - val_acc: 0.8000\n",
      "Epoch 40/200\n",
      "1/1 [==============================] - 0s 249ms/step - loss: 0.0420 - acc: 0.9071 - val_loss: 0.1691 - val_acc: 0.8040\n",
      "Epoch 41/200\n",
      "1/1 [==============================] - 0s 262ms/step - loss: 0.0394 - acc: 0.9286 - val_loss: 0.1679 - val_acc: 0.8080\n",
      "Epoch 42/200\n",
      "1/1 [==============================] - 0s 233ms/step - loss: 0.0404 - acc: 0.9500 - val_loss: 0.1666 - val_acc: 0.8020\n",
      "Epoch 43/200\n",
      "1/1 [==============================] - 0s 320ms/step - loss: 0.0395 - acc: 0.9429 - val_loss: 0.1650 - val_acc: 0.8020\n",
      "Epoch 44/200\n",
      "1/1 [==============================] - 0s 157ms/step - loss: 0.0394 - acc: 0.9429 - val_loss: 0.1638 - val_acc: 0.8040\n",
      "Epoch 45/200\n",
      "1/1 [==============================] - 0s 164ms/step - loss: 0.0371 - acc: 0.9429 - val_loss: 0.1623 - val_acc: 0.8020\n",
      "Epoch 46/200\n",
      "1/1 [==============================] - 0s 164ms/step - loss: 0.0381 - acc: 0.9286 - val_loss: 0.1611 - val_acc: 0.8000\n",
      "Epoch 47/200\n",
      "1/1 [==============================] - 0s 177ms/step - loss: 0.0394 - acc: 0.9286 - val_loss: 0.1598 - val_acc: 0.8080\n",
      "Epoch 48/200\n",
      "1/1 [==============================] - 0s 167ms/step - loss: 0.0403 - acc: 0.9571 - val_loss: 0.1591 - val_acc: 0.8000\n",
      "Epoch 49/200\n",
      "1/1 [==============================] - 0s 150ms/step - loss: 0.0383 - acc: 0.9429 - val_loss: 0.1583 - val_acc: 0.8060\n",
      "Epoch 50/200\n",
      "1/1 [==============================] - 0s 145ms/step - loss: 0.0389 - acc: 0.9214 - val_loss: 0.1580 - val_acc: 0.8060\n",
      "Epoch 51/200\n",
      "1/1 [==============================] - 0s 156ms/step - loss: 0.0364 - acc: 0.9643 - val_loss: 0.1577 - val_acc: 0.8060\n",
      "Epoch 52/200\n",
      "1/1 [==============================] - 0s 144ms/step - loss: 0.0401 - acc: 0.9143 - val_loss: 0.1579 - val_acc: 0.8060\n",
      "Epoch 53/200\n",
      "1/1 [==============================] - 0s 197ms/step - loss: 0.0357 - acc: 0.9714 - val_loss: 0.1575 - val_acc: 0.8080\n",
      "Epoch 54/200\n",
      "1/1 [==============================] - 0s 167ms/step - loss: 0.0373 - acc: 0.9714 - val_loss: 0.1563 - val_acc: 0.8140\n",
      "Epoch 55/200\n",
      "1/1 [==============================] - 0s 155ms/step - loss: 0.0361 - acc: 0.9429 - val_loss: 0.1552 - val_acc: 0.8160\n",
      "Epoch 56/200\n",
      "1/1 [==============================] - 0s 168ms/step - loss: 0.0357 - acc: 0.9571 - val_loss: 0.1548 - val_acc: 0.8160\n",
      "Epoch 57/200\n",
      "1/1 [==============================] - 0s 164ms/step - loss: 0.0368 - acc: 0.9500 - val_loss: 0.1549 - val_acc: 0.8180\n",
      "Epoch 58/200\n",
      "1/1 [==============================] - 0s 146ms/step - loss: 0.0375 - acc: 0.9214 - val_loss: 0.1552 - val_acc: 0.8140\n",
      "Epoch 59/200\n",
      "1/1 [==============================] - 0s 180ms/step - loss: 0.0345 - acc: 0.9571 - val_loss: 0.1552 - val_acc: 0.8120\n",
      "Epoch 60/200\n",
      "1/1 [==============================] - 0s 145ms/step - loss: 0.0327 - acc: 0.9714 - val_loss: 0.1547 - val_acc: 0.8060\n",
      "Epoch 61/200\n",
      "1/1 [==============================] - 0s 169ms/step - loss: 0.0356 - acc: 0.9357 - val_loss: 0.1540 - val_acc: 0.8060\n",
      "Epoch 62/200\n",
      "1/1 [==============================] - 0s 163ms/step - loss: 0.0352 - acc: 0.9571 - val_loss: 0.1532 - val_acc: 0.8080\n",
      "Epoch 63/200\n",
      "1/1 [==============================] - 0s 145ms/step - loss: 0.0346 - acc: 0.9500 - val_loss: 0.1517 - val_acc: 0.8120\n",
      "Epoch 64/200\n",
      "1/1 [==============================] - 0s 166ms/step - loss: 0.0334 - acc: 0.9571 - val_loss: 0.1505 - val_acc: 0.8180\n",
      "Epoch 65/200\n",
      "1/1 [==============================] - 0s 161ms/step - loss: 0.0335 - acc: 0.9500 - val_loss: 0.1494 - val_acc: 0.8180\n",
      "Epoch 66/200\n",
      "1/1 [==============================] - 0s 148ms/step - loss: 0.0351 - acc: 0.9714 - val_loss: 0.1488 - val_acc: 0.8200\n",
      "Epoch 67/200\n",
      "1/1 [==============================] - 0s 168ms/step - loss: 0.0344 - acc: 0.9429 - val_loss: 0.1492 - val_acc: 0.8160\n",
      "Epoch 68/200\n",
      "1/1 [==============================] - 0s 144ms/step - loss: 0.0331 - acc: 0.9786 - val_loss: 0.1491 - val_acc: 0.8180\n",
      "Epoch 69/200\n",
      "1/1 [==============================] - 0s 157ms/step - loss: 0.0337 - acc: 0.9643 - val_loss: 0.1496 - val_acc: 0.8160\n",
      "Epoch 70/200\n",
      "1/1 [==============================] - 0s 169ms/step - loss: 0.0342 - acc: 0.9357 - val_loss: 0.1497 - val_acc: 0.8140\n",
      "Epoch 71/200\n",
      "1/1 [==============================] - 0s 148ms/step - loss: 0.0321 - acc: 0.9786 - val_loss: 0.1496 - val_acc: 0.8140\n",
      "Epoch 72/200\n",
      "1/1 [==============================] - 0s 151ms/step - loss: 0.0319 - acc: 0.9643 - val_loss: 0.1494 - val_acc: 0.8140\n",
      "Epoch 73/200\n",
      "1/1 [==============================] - 0s 149ms/step - loss: 0.0316 - acc: 0.9571 - val_loss: 0.1488 - val_acc: 0.8120\n",
      "Epoch 74/200\n",
      "1/1 [==============================] - 0s 144ms/step - loss: 0.0343 - acc: 0.9500 - val_loss: 0.1481 - val_acc: 0.8140\n",
      "Epoch 75/200\n",
      "1/1 [==============================] - 0s 213ms/step - loss: 0.0305 - acc: 0.9429 - val_loss: 0.1473 - val_acc: 0.8160\n",
      "Epoch 76/200\n",
      "1/1 [==============================] - 0s 160ms/step - loss: 0.0317 - acc: 0.9857 - val_loss: 0.1460 - val_acc: 0.8180\n",
      "Epoch 77/200\n",
      "1/1 [==============================] - 0s 164ms/step - loss: 0.0307 - acc: 0.9571 - val_loss: 0.1445 - val_acc: 0.8240\n",
      "Epoch 78/200\n",
      "1/1 [==============================] - 0s 169ms/step - loss: 0.0310 - acc: 0.9571 - val_loss: 0.1432 - val_acc: 0.8180\n",
      "Epoch 79/200\n",
      "1/1 [==============================] - 0s 149ms/step - loss: 0.0321 - acc: 0.9357 - val_loss: 0.1425 - val_acc: 0.8200\n",
      "Epoch 80/200\n",
      "1/1 [==============================] - 0s 156ms/step - loss: 0.0310 - acc: 0.9786 - val_loss: 0.1421 - val_acc: 0.8240\n",
      "Epoch 81/200\n",
      "1/1 [==============================] - 0s 150ms/step - loss: 0.0292 - acc: 0.9714 - val_loss: 0.1417 - val_acc: 0.8240\n",
      "Epoch 82/200\n",
      "1/1 [==============================] - 0s 145ms/step - loss: 0.0320 - acc: 0.9429 - val_loss: 0.1417 - val_acc: 0.8240\n",
      "Epoch 83/200\n",
      "1/1 [==============================] - 0s 145ms/step - loss: 0.0316 - acc: 0.9500 - val_loss: 0.1420 - val_acc: 0.8240\n",
      "Epoch 84/200\n",
      "1/1 [==============================] - 0s 197ms/step - loss: 0.0291 - acc: 0.9429 - val_loss: 0.1432 - val_acc: 0.8240\n",
      "Epoch 85/200\n",
      "1/1 [==============================] - 0s 243ms/step - loss: 0.0316 - acc: 0.9714 - val_loss: 0.1437 - val_acc: 0.8200\n",
      "Epoch 86/200\n",
      "1/1 [==============================] - 0s 317ms/step - loss: 0.0288 - acc: 0.9786 - val_loss: 0.1442 - val_acc: 0.8120\n",
      "Epoch 87/200\n",
      "1/1 [==============================] - 0s 256ms/step - loss: 0.0303 - acc: 0.9786 - val_loss: 0.1442 - val_acc: 0.8120\n",
      "Epoch 88/200\n",
      "1/1 [==============================] - 0s 259ms/step - loss: 0.0298 - acc: 0.9643 - val_loss: 0.1447 - val_acc: 0.8120\n",
      "Epoch 89/200\n",
      "1/1 [==============================] - 0s 244ms/step - loss: 0.0297 - acc: 0.9714 - val_loss: 0.1440 - val_acc: 0.8120\n",
      "Epoch 90/200\n",
      "1/1 [==============================] - 0s 266ms/step - loss: 0.0312 - acc: 0.9500 - val_loss: 0.1432 - val_acc: 0.8120\n",
      "Epoch 91/200\n",
      "1/1 [==============================] - 0s 320ms/step - loss: 0.0293 - acc: 0.9643 - val_loss: 0.1413 - val_acc: 0.8120\n",
      "Epoch 92/200\n",
      "1/1 [==============================] - 0s 244ms/step - loss: 0.0292 - acc: 0.9643 - val_loss: 0.1395 - val_acc: 0.8180\n",
      "Epoch 93/200\n",
      "1/1 [==============================] - 0s 175ms/step - loss: 0.0290 - acc: 0.9571 - val_loss: 0.1381 - val_acc: 0.8160\n",
      "Epoch 94/200\n",
      "1/1 [==============================] - 0s 170ms/step - loss: 0.0311 - acc: 0.9429 - val_loss: 0.1383 - val_acc: 0.8200\n",
      "Epoch 95/200\n",
      "1/1 [==============================] - 0s 158ms/step - loss: 0.0303 - acc: 0.9429 - val_loss: 0.1393 - val_acc: 0.8220\n",
      "Epoch 96/200\n",
      "1/1 [==============================] - 0s 150ms/step - loss: 0.0275 - acc: 0.9571 - val_loss: 0.1410 - val_acc: 0.8180\n",
      "Epoch 97/200\n",
      "1/1 [==============================] - 0s 172ms/step - loss: 0.0310 - acc: 0.9500 - val_loss: 0.1419 - val_acc: 0.8060\n",
      "Epoch 98/200\n",
      "1/1 [==============================] - 0s 147ms/step - loss: 0.0285 - acc: 0.9786 - val_loss: 0.1425 - val_acc: 0.8080\n",
      "Epoch 99/200\n",
      "1/1 [==============================] - 0s 148ms/step - loss: 0.0298 - acc: 0.9571 - val_loss: 0.1425 - val_acc: 0.8080\n",
      "Epoch 100/200\n",
      "1/1 [==============================] - 0s 152ms/step - loss: 0.0293 - acc: 0.9571 - val_loss: 0.1417 - val_acc: 0.8080\n",
      "Epoch 101/200\n",
      "1/1 [==============================] - 0s 151ms/step - loss: 0.0280 - acc: 0.9500 - val_loss: 0.1408 - val_acc: 0.8140\n",
      "Epoch 102/200\n",
      "1/1 [==============================] - 0s 143ms/step - loss: 0.0268 - acc: 0.9929 - val_loss: 0.1399 - val_acc: 0.8120\n",
      "Epoch 103/200\n",
      "1/1 [==============================] - 0s 143ms/step - loss: 0.0269 - acc: 0.9714 - val_loss: 0.1384 - val_acc: 0.8180\n"
     ]
    },
    {
     "data": {
      "text/plain": [
       "<keras.callbacks.History at 0x7fa59e2944c0>"
      ]
     },
     "execution_count": 8,
     "metadata": {},
     "output_type": "execute_result"
    }
   ],
   "source": [
    "# Train model\n",
    "validation_data = ([X, A], labels_encoded, val_mask)\n",
    "model.fit([X, A],\n",
    "          labels_encoded,\n",
    "          sample_weight=train_mask,\n",
    "          epochs=epochs,\n",
    "          batch_size=N,\n",
    "          validation_data=validation_data,\n",
    "          shuffle=False,\n",
    "          callbacks=[\n",
    "              EarlyStopping(patience=es_patience,  restore_best_weights=True),\n",
    "              tbCallBack_GCN\n",
    "          ])"
   ]
  },
  {
   "cell_type": "code",
   "execution_count": null,
   "metadata": {
    "colab": {
     "base_uri": "https://localhost:8080/"
    },
    "id": "EyQcUuPfNpxb",
    "outputId": "75ed78bc-ca4e-4055-cf4b-e2509fb24c78"
   },
   "outputs": [
    {
     "name": "stdout",
     "output_type": "stream",
     "text": [
      "1/1 [==============================] - 0s 98ms/step\n",
      "GCN Classification Report: \n",
      "                         precision    recall  f1-score   support\n",
      "\n",
      "            Case_Based       0.78      0.75      0.77       113\n",
      "    Genetic_Algorithms       0.89      0.81      0.85       150\n",
      "       Neural_Networks       0.88      0.76      0.81       306\n",
      " Probabilistic_Methods       0.80      0.80      0.80       167\n",
      "Reinforcement_Learning       0.69      0.84      0.76        79\n",
      "         Rule_Learning       0.56      0.79      0.65        62\n",
      "                Theory       0.56      0.63      0.59       123\n",
      "\n",
      "              accuracy                           0.76      1000\n",
      "             macro avg       0.74      0.77      0.75      1000\n",
      "          weighted avg       0.78      0.76      0.77      1000\n",
      "\n"
     ]
    }
   ],
   "source": [
    "# Evaluate model\n",
    "X_te = X[test_mask]\n",
    "A_te = A[test_mask,:][:,test_mask]\n",
    "y_te = labels_encoded[test_mask]\n",
    "\n",
    "y_pred = model.predict([X_te, A_te], batch_size=N)\n",
    "report = classification_report(np.argmax(y_te,axis=1), np.argmax(y_pred,axis=1), target_names=classes)\n",
    "print('GCN Classification Report: \\n {}'.format(report))"
   ]
  },
  {
   "cell_type": "markdown",
   "metadata": {
    "id": "opUkkl97AukZ"
   },
   "source": [
    "<div class=\"alert alert-block alert-success\">\n",
    "<b>Answer 23:</b> I choose the following hyperparameters and with 2 layers of Graph Convolutional Networks (GCN) to get optimal performance:\n",
    "<ul>  \n",
    "  <li>channels = 16</li>\n",
    "  <li>dropout = 0.5</li>\n",
    "  <li>l2_reg = 0.0005</li>\n",
    "  <li>learning_rate = 0.01</li>\n",
    "  <li>epochs = 200</li>\n",
    "  <li>es_patience = 10</li>\n",
    "</ul>\n",
    "\n",
    "</div>"
   ]
  },
  {
   "cell_type": "code",
   "execution_count": 74,
   "metadata": {
    "id": "rc5Xot-YAAsP"
   },
   "outputs": [],
   "source": []
  },
  {
   "cell_type": "markdown",
   "metadata": {
    "id": "NRJrzjRwA0pR"
   },
   "source": [
    "<div class=\"alert alert-block alert-success\">\n",
    "<b>Question 24:</b> Idea 2\n",
    "\n",
    "Extract structure-based node features using Node2Vec [2]. Briefly describe how Node2Vec finds node features. Choose your desired classifier (one of SVM, Neural Network, or Random Forest) and classify the documents using only Node2Vec (graph structure) features. Now classify the documents using only the 1433-dimensional text features. Which one outperforms? Why do you think this is the case? Combine the Node2Vec and text features and train your classifier on the combined features. What is the best classification accuracy you get (in terms of the percentage of test documents correctly classified)?\n",
    "</div>"
   ]
  },
  {
   "cell_type": "code",
   "execution_count": null,
   "metadata": {
    "colab": {
     "base_uri": "https://localhost:8080/"
    },
    "id": "0Rt-DKsUASF2",
    "outputId": "01bcd7c3-f92a-4443-bbbc-896bac2c46eb"
   },
   "outputs": [
    {
     "name": "stdout",
     "output_type": "stream",
     "text": [
      "\u001b[2K     \u001b[90m━━━━━━━━━━━━━━━━━━━━━━━━━━━━━━━━━━━━━━━\u001b[0m \u001b[32m435.2/435.2 kB\u001b[0m \u001b[31m7.5 MB/s\u001b[0m eta \u001b[36m0:00:00\u001b[0m\n",
      "\u001b[?25h  Preparing metadata (setup.py) ... \u001b[?25l\u001b[?25hdone\n",
      "\u001b[2K     \u001b[90m━━━━━━━━━━━━━━━━━━━━━━━━━━━━━━━━━━━━━━\u001b[0m \u001b[32m528.1/528.1 kB\u001b[0m \u001b[31m29.6 MB/s\u001b[0m eta \u001b[36m0:00:00\u001b[0m\n",
      "\u001b[2K     \u001b[90m━━━━━━━━━━━━━━━━━━━━━━━━━━━━━━━━━━━━━━\u001b[0m \u001b[32m121.9/121.9 kB\u001b[0m \u001b[31m13.8 MB/s\u001b[0m eta \u001b[36m0:00:00\u001b[0m\n",
      "\u001b[2K     \u001b[90m━━━━━━━━━━━━━━━━━━━━━━━━━━━━━━━━━━━━━━━━\u001b[0m \u001b[32m41.7/41.7 kB\u001b[0m \u001b[31m1.5 MB/s\u001b[0m eta \u001b[36m0:00:00\u001b[0m\n",
      "\u001b[2K     \u001b[90m━━━━━━━━━━━━━━━━━━━━━━━━━━━━━━━━━━━━━━━━\u001b[0m \u001b[32m84.9/84.9 kB\u001b[0m \u001b[31m9.6 MB/s\u001b[0m eta \u001b[36m0:00:00\u001b[0m\n",
      "\u001b[2K     \u001b[90m━━━━━━━━━━━━━━━━━━━━━━━━━━━━━━━━━━━━━━━━\u001b[0m \u001b[32m1.6/1.6 MB\u001b[0m \u001b[31m61.1 MB/s\u001b[0m eta \u001b[36m0:00:00\u001b[0m\n",
      "\u001b[?25h  Building wheel for mplleaflet (setup.py) ... \u001b[?25l\u001b[?25hdone\n"
     ]
    }
   ],
   "source": [
    "# install StellarGraph if running on Google Colab\n",
    "import sys\n",
    "if 'google.colab' in sys.modules:\n",
    "  %pip install -q stellargraph[demos]==1.2.1 --ignore-requires-python"
   ]
  },
  {
   "cell_type": "code",
   "execution_count": null,
   "metadata": {
    "id": "36x_Dvjv7Ppt"
   },
   "outputs": [],
   "source": [
    "import matplotlib.pyplot as plt\n",
    "\n",
    "from sklearn.manifold import TSNE\n",
    "from sklearn.model_selection import train_test_split\n",
    "from sklearn.linear_model import LogisticRegressionCV\n",
    "from sklearn.metrics import accuracy_score\n",
    "\n",
    "import os\n",
    "import networkx as nx\n",
    "import numpy as np\n",
    "import pandas as pd\n",
    "\n",
    "from stellargraph.data import BiasedRandomWalk\n",
    "from stellargraph import StellarGraph #feel free to use any other library of your choice\n",
    "from stellargraph import datasets\n",
    "from IPython.display import display, HTML\n",
    "\n",
    "%matplotlib inline"
   ]
  },
  {
   "cell_type": "markdown",
   "metadata": {
    "id": "Ucjx48hDAqj-"
   },
   "source": [
    "### Cora Dataset"
   ]
  },
  {
   "cell_type": "code",
   "execution_count": null,
   "metadata": {
    "colab": {
     "base_uri": "https://localhost:8080/",
     "height": 260
    },
    "id": "xItWA3Q47PmX",
    "outputId": "9601cc38-d947-4334-c7cb-3c4d9c9ded87"
   },
   "outputs": [
    {
     "data": {
      "text/html": [
       "The Cora dataset consists of 2708 scientific publications classified into one of seven classes. The citation network consists of 5429 links. Each publication in the dataset is described by a 0/1-valued word vector indicating the absence/presence of the corresponding word from the dictionary. The dictionary consists of 1433 unique words."
      ],
      "text/plain": [
       "<IPython.core.display.HTML object>"
      ]
     },
     "metadata": {},
     "output_type": "display_data"
    },
    {
     "name": "stdout",
     "output_type": "stream",
     "text": [
      "StellarGraph: Undirected multigraph\n",
      " Nodes: 2485, Edges: 5209\n",
      "\n",
      " Node types:\n",
      "  paper: [2485]\n",
      "    Features: float32 vector, length 1433\n",
      "    Edge types: paper-cites->paper\n",
      "\n",
      " Edge types:\n",
      "    paper-cites->paper: [5209]\n",
      "        Weights: all 1 (default)\n",
      "        Features: none\n"
     ]
    }
   ],
   "source": [
    "dataset = datasets.Cora()\n",
    "display(HTML(dataset.description))\n",
    "G, node_subjects = dataset.load(largest_connected_component_only=True)\n",
    "print(G.info())"
   ]
  },
  {
   "cell_type": "markdown",
   "metadata": {
    "id": "5vJgbfzPA6Gz"
   },
   "source": [
    "### Corpus generation using BiasedRandomWalk"
   ]
  },
  {
   "cell_type": "code",
   "execution_count": null,
   "metadata": {
    "colab": {
     "base_uri": "https://localhost:8080/"
    },
    "id": "NGxPsiTb7Pkr",
    "outputId": "f54ef1ef-dea1-4b18-c9a8-d066e60c8e76"
   },
   "outputs": [
    {
     "name": "stdout",
     "output_type": "stream",
     "text": [
      "Number of random walks: 24850\n"
     ]
    }
   ],
   "source": [
    "# get random walks using BiasedRandomWalk\n",
    "rw = BiasedRandomWalk(G)\n",
    "\n",
    "walks = rw.run(\n",
    "    nodes=list(G.nodes()),  # root nodes\n",
    "    length=100, # maximum length of a random walk\n",
    "    n=10,       # number of random walks per root node\n",
    "    p=0.5,      # Defines (unormalised) probability, 1/p, of returning to source node\n",
    "    q=2.0,      # Defines (unormalised) probability, 1/q, for moving away from source node\n",
    ")\n",
    "print(\"Number of random walks: {}\".format(len(walks)))"
   ]
  },
  {
   "cell_type": "markdown",
   "metadata": {
    "id": "ptQZQoDUBJlj"
   },
   "source": [
    "### Representation Learning using Word2Vec\n",
    "\n",
    "`Word2Vec` implementation in `Gensim` works with `str` tokens, but the graph has integer IDs, so they're converted to `str` here.\n",
    "\n",
    "We set the dimensionality of the learned embedding vectors to 128."
   ]
  },
  {
   "cell_type": "code",
   "execution_count": null,
   "metadata": {
    "colab": {
     "base_uri": "https://localhost:8080/"
    },
    "id": "abG6JxuH7Pie",
    "outputId": "0c8b9f04-14dd-4704-d7fe-08e679cf0c63"
   },
   "outputs": [
    {
     "name": "stdout",
     "output_type": "stream",
     "text": [
      "(128,)\n"
     ]
    }
   ],
   "source": [
    "from gensim.models import Word2Vec\n",
    "\n",
    "str_walks = [[str(n) for n in walk] for walk in walks]\n",
    "model = Word2Vec(\n",
    "    str_walks, \n",
    "    vector_size=128, \n",
    "    window=5, \n",
    "    min_count=0, \n",
    "    sg=1, \n",
    "    workers=2, \n",
    "    epochs=1\n",
    ")\n",
    "\n",
    "# The embedding vectors can be retrieved from model.wv using the node ID as key.\n",
    "print(model.wv[\"19231\"].shape)"
   ]
  },
  {
   "cell_type": "markdown",
   "metadata": {
    "id": "stzEz2mqBjV6"
   },
   "source": [
    "### Visualise Node Embeddings"
   ]
  },
  {
   "cell_type": "code",
   "execution_count": null,
   "metadata": {
    "id": "8KouF8Nv7PgL"
   },
   "outputs": [],
   "source": [
    "# Retrieve node embeddings and corresponding subjects\n",
    "node_ids = model.wv.index_to_key  # list of node IDs\n",
    "node_embeddings = (\n",
    "    model.wv.vectors\n",
    ")  # numpy.ndarray of size number of nodes times embeddings dimensionality\n",
    "node_targets = node_subjects[[int(node_id) for node_id in node_ids]]"
   ]
  },
  {
   "cell_type": "code",
   "execution_count": null,
   "metadata": {
    "id": "F5YD0SXR7Clo"
   },
   "outputs": [],
   "source": [
    "# Apply t-SNE transformation on node embeddings\n",
    "tsne = TSNE(n_components=2)\n",
    "node_embeddings_2d = tsne.fit_transform(node_embeddings)"
   ]
  },
  {
   "cell_type": "code",
   "execution_count": null,
   "metadata": {
    "colab": {
     "base_uri": "https://localhost:8080/",
     "height": 693
    },
    "id": "Um18whHH8TDc",
    "outputId": "c5d99756-349f-4fea-dff8-f079a7489f06"
   },
   "outputs": [
    {
     "data": {
      "text/plain": [
       "<matplotlib.collections.PathCollection at 0x7fa57751a500>"
      ]
     },
     "execution_count": 43,
     "metadata": {},
     "output_type": "execute_result"
    },
    {
     "data": {
      "image/png": "[encoded data removed]",
      "text/plain": [
       "<Figure size 1000x800 with 1 Axes>"
      ]
     },
     "metadata": {},
     "output_type": "display_data"
    }
   ],
   "source": [
    "# draw the points\n",
    "alpha = 0.7\n",
    "label_map = {l: i for i, l in enumerate(np.unique(node_targets))}\n",
    "node_colours = [label_map[target] for target in node_targets]\n",
    "\n",
    "plt.figure(figsize=(10, 8))\n",
    "plt.scatter(\n",
    "    node_embeddings_2d[:, 0],\n",
    "    node_embeddings_2d[:, 1],\n",
    "    c=node_colours,\n",
    "    cmap=\"jet\",\n",
    "    alpha=alpha,\n",
    ")"
   ]
  },
  {
   "cell_type": "markdown",
   "metadata": {
    "id": "lILu2wjp83-V"
   },
   "source": [
    "### CORA classification with Node2Vec preprocessing and SVM model"
   ]
  },
  {
   "cell_type": "code",
   "execution_count": null,
   "metadata": {
    "id": "etkNamfnB6uK"
   },
   "outputs": [],
   "source": [
    "from sklearn.model_selection import cross_val_score\n",
    "from sklearn.model_selection import ShuffleSplit, KFold\n",
    "from sklearn.metrics import classification_report\n",
    "from sklearn.svm import SVC"
   ]
  },
  {
   "cell_type": "code",
   "execution_count": null,
   "metadata": {
    "colab": {
     "base_uri": "https://localhost:8080/"
    },
    "id": "ebwD9cB18a6N",
    "outputId": "c1bcc552-452c-43e0-a43d-36acc9bb86ea"
   },
   "outputs": [
    {
     "name": "stdout",
     "output_type": "stream",
     "text": [
      "Array shapes:\n",
      " X_train = (140, 128)\n",
      " y_train = (140,)\n",
      " X_test = (2345, 128)\n",
      " y_test = (2345,)\n"
     ]
    }
   ],
   "source": [
    "# split the data, use 140 examples in train set \n",
    "X = node_embeddings\n",
    "y = np.array(node_targets)\n",
    "X_train, X_test, y_train, y_test = train_test_split(X, y, train_size=0.0564)\n",
    "\n",
    "print(\n",
    "    \"Array shapes:\\n X_train = {}\\n y_train = {}\\n X_test = {}\\n y_test = {}\".format(\n",
    "        X_train.shape, y_train.shape, X_test.shape, y_test.shape\n",
    "    )\n",
    ")"
   ]
  },
  {
   "cell_type": "code",
   "execution_count": null,
   "metadata": {
    "colab": {
     "base_uri": "https://localhost:8080/"
    },
    "id": "8taKR3H-800J",
    "outputId": "fd800a21-7244-4149-d1fe-33177a25d2c7"
   },
   "outputs": [
    {
     "name": "stdout",
     "output_type": "stream",
     "text": [
      "The best gamma for SVM is 0.1 with the 67.86% accuracy\n",
      "\n",
      "SVM Classification Report: \n",
      "                         precision    recall  f1-score   support\n",
      "\n",
      "            Case_Based       0.79      0.71      0.74       269\n",
      "    Genetic_Algorithms       0.88      0.88      0.88       379\n",
      "       Neural_Networks       0.70      0.80      0.75       688\n",
      " Probabilistic_Methods       0.75      0.74      0.74       359\n",
      "Reinforcement_Learning       0.81      0.71      0.76       204\n",
      "         Rule_Learning       0.78      0.36      0.49       125\n",
      "                Theory       0.64      0.68      0.66       321\n",
      "\n",
      "              accuracy                           0.75      2345\n",
      "             macro avg       0.76      0.70      0.72      2345\n",
      "          weighted avg       0.75      0.75      0.74      2345\n",
      "\n"
     ]
    }
   ],
   "source": [
    "# use SVM model, k-fold cross-validation for finding best gamma\n",
    "best_score = 0\n",
    "scores_list = []\n",
    "\n",
    "for k in range(-3, 6+1):\n",
    "    # SVM model\n",
    "    gamma = 10**k\n",
    "    svm = SVC(C=gamma, kernel='linear', probability=True, random_state=42)\n",
    "    \n",
    "    # k-fold cross-validation \n",
    "    cv = KFold(n_splits=5, shuffle=True, random_state=42)\n",
    "    scores = cross_val_score(svm, X_train, y_train , cv=cv, scoring='accuracy')\n",
    "    \n",
    "    cur_score = scores.mean()\n",
    "    scores_list.append(cur_score)\n",
    "\n",
    "    if cur_score > best_score:\n",
    "        best_score = cur_score\n",
    "        best_gamma = gamma\n",
    "\n",
    "print('The best gamma for SVM is {} with the {:5.2f}% accuracy\\n'.format(best_gamma, \n",
    "                                                                         best_score*100))\n",
    "\n",
    "# SVM with best gamma\n",
    "svm_best = SVC(C=best_gamma, kernel='linear', probability=True, random_state=42)\n",
    "svm_best = svm_best.fit(X_train, y_train)\n",
    "svm_best_pred = svm_best.predict(X_test)\n",
    "svm_best_pred_prob = svm_best.predict_proba(X_test)[::, 1]\n",
    "\n",
    "# report\n",
    "report = classification_report(y_test, svm_best_pred, target_names=classes)\n",
    "print('SVM Classification Report: \\n {}'.format(report))"
   ]
  },
  {
   "cell_type": "markdown",
   "metadata": {
    "id": "8qV00CCzHl84"
   },
   "source": [
    "### CORA classification with 1433-dimensional text features and SVM model"
   ]
  },
  {
   "cell_type": "code",
   "execution_count": null,
   "metadata": {
    "id": "zcPfIJ4ZG7Eo"
   },
   "outputs": [],
   "source": [
    "all_data = []\n",
    "all_edges = []\n",
    "\n",
    "for root,dirs,files in os.walk('./cora'):\n",
    "    for file in files:\n",
    "        if '.content' in file:\n",
    "            with open(os.path.join(root,file),'r') as f:\n",
    "                all_data.extend(f.read().splitlines())\n",
    "        elif 'cites' in file:\n",
    "            with open(os.path.join(root,file),'r') as f:\n",
    "                all_edges.extend(f.read().splitlines())\n",
    "\n",
    "all_data = shuffle(all_data,random_state=42)\n",
    "\n",
    "labels = []\n",
    "nodes = []\n",
    "text_features = []\n",
    "\n",
    "for i,data in enumerate(all_data):\n",
    "    elements = data.split('\\t')\n",
    "    labels.append(elements[-1])\n",
    "    text_features.append(elements[1:-1])\n",
    "    nodes.append(elements[0])"
   ]
  },
  {
   "cell_type": "code",
   "execution_count": null,
   "metadata": {
    "colab": {
     "base_uri": "https://localhost:8080/"
    },
    "id": "sATciZaXKLNJ",
    "outputId": "7eb33082-d37c-4775-dd1e-4c511b83f285"
   },
   "outputs": [
    {
     "name": "stdout",
     "output_type": "stream",
     "text": [
      "Array shapes:\n",
      " X_train = (140, 1433)\n",
      " y_train = (140,)\n",
      " X_test = (2345, 1433)\n",
      " y_test = (2345,)\n"
     ]
    }
   ],
   "source": [
    "# get corresponding 2485 nodes (node_ids from previous part) in GCC from original 2708 nodes\n",
    "idx = [nodes.index(node) for node in node_ids]\n",
    "labels = np.array(labels)[idx]\n",
    "text_features = np.array(text_features)[idx]\n",
    "\n",
    "# split data, 140 samples for train\n",
    "X_train, X_test, y_train, y_test = train_test_split(text_features, labels, train_size=0.0564)\n",
    "\n",
    "print(\n",
    "    \"Array shapes:\\n X_train = {}\\n y_train = {}\\n X_test = {}\\n y_test = {}\".format(\n",
    "        X_train.shape, y_train.shape, X_test.shape, y_test.shape\n",
    "    )\n",
    ")"
   ]
  },
  {
   "cell_type": "code",
   "execution_count": null,
   "metadata": {
    "colab": {
     "base_uri": "https://localhost:8080/"
    },
    "id": "E9CyyJIfMopa",
    "outputId": "04732134-d9d1-46c8-ba35-13aacd8a4dca"
   },
   "outputs": [
    {
     "name": "stdout",
     "output_type": "stream",
     "text": [
      "SVM Classification Report: \n",
      "                         precision    recall  f1-score   support\n",
      "\n",
      "            Case_Based       0.56      0.41      0.48       269\n",
      "    Genetic_Algorithms       0.72      0.75      0.74       375\n",
      "       Neural_Networks       0.53      0.85      0.65       690\n",
      " Probabilistic_Methods       0.62      0.39      0.48       357\n",
      "Reinforcement_Learning       0.68      0.48      0.57       200\n",
      "         Rule_Learning       0.00      0.00      0.00       128\n",
      "                Theory       0.52      0.44      0.48       326\n",
      "\n",
      "              accuracy                           0.58      2345\n",
      "             macro avg       0.52      0.48      0.48      2345\n",
      "          weighted avg       0.56      0.58      0.55      2345\n",
      "\n"
     ]
    }
   ],
   "source": [
    "best_gamma = 0.1\n",
    "\n",
    "# SVM with best gamma\n",
    "svm_best = SVC(C=best_gamma, kernel='linear', probability=True, random_state=42)\n",
    "svm_best = svm_best.fit(X_train, y_train)\n",
    "svm_best_pred = svm_best.predict(X_test)\n",
    "svm_best_pred_prob = svm_best.predict_proba(X_test)[::, 1]\n",
    "\n",
    "# report\n",
    "report = classification_report(y_test, svm_best_pred, target_names=classes)\n",
    "print('SVM Classification Report: \\n {}'.format(report))"
   ]
  },
  {
   "cell_type": "markdown",
   "metadata": {
    "id": "QpTxQiIKNFFa"
   },
   "source": [
    "### Combine the Node2Vec and text features and train your classifier on the combined features"
   ]
  },
  {
   "cell_type": "code",
   "execution_count": null,
   "metadata": {
    "colab": {
     "base_uri": "https://localhost:8080/"
    },
    "id": "Vlv78Z_rND7p",
    "outputId": "5aeff913-6df2-4d9e-c659-b1b5258d33ec"
   },
   "outputs": [
    {
     "name": "stdout",
     "output_type": "stream",
     "text": [
      "Array shapes:\n",
      " X_train = (140, 1561)\n",
      " y_train = (140,)\n",
      " X_test = (2345, 1561)\n",
      " y_test = (2345,)\n",
      "\n",
      "SVM Classification Report: \n",
      "                         precision    recall  f1-score   support\n",
      "\n",
      "            Case_Based       0.83      0.73      0.78       270\n",
      "    Genetic_Algorithms       0.91      0.90      0.91       376\n",
      "       Neural_Networks       0.75      0.83      0.79       690\n",
      " Probabilistic_Methods       0.74      0.82      0.78       360\n",
      "Reinforcement_Learning       0.75      0.78      0.76       202\n",
      "         Rule_Learning       0.91      0.52      0.66       123\n",
      "                Theory       0.71      0.62      0.66       324\n",
      "\n",
      "              accuracy                           0.78      2345\n",
      "             macro avg       0.80      0.74      0.76      2345\n",
      "          weighted avg       0.79      0.78      0.78      2345\n",
      "\n"
     ]
    }
   ],
   "source": [
    "# Node2Vec of GCC - X, y = node_embeddings (128), np.array(node_targets)\n",
    "# Original of GCC - X, y = text_features (1433), labels\n",
    "\n",
    "# make sure both dataset are aligned in the same order\n",
    "assert all(np.array(node_targets) == labels), \"GT not aligned!\"\n",
    "\n",
    "# combine\n",
    "X = np.hstack([node_embeddings, text_features])\n",
    "y = labels\n",
    "\n",
    "# split data, 140 samples for train\n",
    "X_train, X_test, y_train, y_test = train_test_split(X, y, train_size=0.0564)\n",
    "\n",
    "print(\n",
    "    \"Array shapes:\\n X_train = {}\\n y_train = {}\\n X_test = {}\\n y_test = {}\\n\".format(\n",
    "        X_train.shape, y_train.shape, X_test.shape, y_test.shape\n",
    "    )\n",
    ")\n",
    "\n",
    "# SVM with best gamma\n",
    "best_gamma = 0.1\n",
    "svm_best = SVC(C=best_gamma, kernel='linear', probability=True, random_state=42)\n",
    "svm_best = svm_best.fit(X_train, y_train)\n",
    "svm_best_pred = svm_best.predict(X_test)\n",
    "svm_best_pred_prob = svm_best.predict_proba(X_test)[::, 1]\n",
    "\n",
    "# report\n",
    "report = classification_report(y_test, svm_best_pred, target_names=classes)\n",
    "print('SVM Classification Report: \\n {}'.format(report))"
   ]
  },
  {
   "cell_type": "markdown",
   "metadata": {
    "id": "3yOSuZakBBNX"
   },
   "source": [
    "<div class=\"alert alert-block alert-success\">\n",
    "<b>Answer 24:</b> Node2Vec finds node features by generating random walks in the graph, training a Skip-gram model on these walks to learn node embeddings, and then extracting the learned embeddings as the node features. These features capture the structural properties of the graph and can be used for various downstream tasks, such as node classification or link prediction.\n",
    "\n",
    "Here, I choose SVM as classifier and based on the results shown above, the classifier trained on Node2Vec (graph structure) features achieves an accuracy of 75%, which outperforms the one trained on 1433-dimensional text features with only 58% accuracy. This is expected since Node2Vec capture the structural properties of the graph and generate the representative node embeddings, which provide more information than text features of each node itself. Therefore, it yields better performance.\n",
    "\n",
    "Moreover, by combining these two types of features, i.e. Node2Vec and text features, the highest accuracy of 78% is achieved.\n",
    "</div>"
   ]
  },
  {
   "cell_type": "code",
   "execution_count": null,
   "metadata": {
    "id": "dRRpZM6EBA5E"
   },
   "outputs": [],
   "source": []
  },
  {
   "cell_type": "markdown",
   "metadata": {
    "id": "XbA5ObPPBF5V"
   },
   "source": [
    "<div class=\"alert alert-block alert-success\">\n",
    "<b>Question 25:</b> Idea 3\n",
    "\n",
    "We can find the personalized PageRank of each document in seven different runs, one per class. In each run, select one of the classes and take the 20 seed documents of that class. Then, perform a random walk with the following customized properties: \n",
    "\n",
    "\n",
    "<ul>  \n",
    "  <li>(a) teleportation takes the random walker to one of the seed documents of that class (with a uniform probability of 1/20 per seed document). Vary the teleportation probability in {0, 0.1, 0.2}. </li>\n",
    "  <li>(b) the probability of transitioning to neighbors is not uniform among the neighbors. Rather, it is proportional to the cosine similarity between the text features of the current node and the next neighboring node.</li>\n",
    "</ul>\n",
    "\n",
    "Repeat part b for every teleportation probability in part a.\n",
    "Run the PageRank only on the GCC. for each seed node, do 1000 random walks. Maintain a class-wise visited frequency count for every unlabeled node. The predicted class for that unlabeled node is the class which lead to maximum visits to that node. Report accuracy and f1 scores.\n",
    "\n",
    "\n",
    "</div>"
   ]
  },
  {
   "cell_type": "code",
   "execution_count": 1,
   "metadata": {
    "id": "19TWrAYCCNUH"
   },
   "outputs": [],
   "source": [
    "import numpy as np\n",
    "import os\n",
    "import networkx as nx\n",
    "from sklearn.model_selection import train_test_split\n",
    "import pandas as pd\n",
    "from sklearn.metrics import accuracy_score\n",
    "from sklearn.metrics import classification_report\n",
    "from numpy import dot\n",
    "from numpy.linalg import norm\n",
    "\n",
    "\n",
    "from collections import Counter\n",
    "import matplotlib.pyplot as plt\n",
    "# !unzip \"cora (extract.me).zip\""
   ]
  },
  {
   "cell_type": "code",
   "execution_count": 2,
   "metadata": {
    "id": "YH5gpbjcCNQs"
   },
   "outputs": [],
   "source": [
    "all_data = []\n",
    "all_edges = []\n",
    "\n",
    "for root,dirs,files in os.walk('./cora'):\n",
    "    for file in files:\n",
    "        if '.content' in file:\n",
    "            with open(os.path.join(root,file),'r') as f:\n",
    "                all_data.extend(f.read().splitlines())\n",
    "        elif 'cites' in file:\n",
    "            with open(os.path.join(root,file),'r') as f:\n",
    "                all_edges.extend(f.read().splitlines())\n",
    "                \n",
    "# random_state = 42\n",
    "# all_data = shuffle(all_data,random_state=random_state)"
   ]
  },
  {
   "cell_type": "code",
   "execution_count": 3,
   "metadata": {
    "colab": {
     "base_uri": "https://localhost:8080/"
    },
    "id": "3ydbbqJyCNOK",
    "outputId": "dccaecf0-66e9-4fa6-d544-fa5398f20566"
   },
   "outputs": [
    {
     "data": {
      "text/plain": [
       "{'Case_Based': 0,\n",
       " 'Genetic_Algorithms': 1,\n",
       " 'Neural_Networks': 2,\n",
       " 'Probabilistic_Methods': 3,\n",
       " 'Reinforcement_Learning': 4,\n",
       " 'Rule_Learning': 5,\n",
       " 'Theory': 6}"
      ]
     },
     "execution_count": 3,
     "metadata": {},
     "output_type": "execute_result"
    }
   ],
   "source": [
    "categories =  ['Reinforcement_Learning', 'Theory', 'Case_Based', 'Genetic_Algorithms', \n",
    "               'Probabilistic_Methods', 'Neural_Networks', 'Rule_Learning']\n",
    "sorted(categories)\n",
    "label_encoder = {}\n",
    "i = 0\n",
    "for cat in sorted(categories):\n",
    "  label_encoder[cat] = i\n",
    "  i +=1\n",
    "label_encoder"
   ]
  },
  {
   "cell_type": "code",
   "execution_count": 4,
   "metadata": {
    "colab": {
     "base_uri": "https://localhost:8080/"
    },
    "id": "0lGtjaMDCNLm",
    "outputId": "e899199e-88ec-4bec-c56a-7dfc3aa3c389"
   },
   "outputs": [
    {
     "name": "stdout",
     "output_type": "stream",
     "text": [
      "X shape:  (2708, 1433)\n",
      "\n",
      "Number of nodes (N):  2708\n",
      "\n",
      "Number of features (F) of each node:  1433\n",
      "\n",
      "Categories:  {0, 1, 2, 3, 4, 5, 6}\n",
      "\n",
      "Number of classes:  7\n"
     ]
    }
   ],
   "source": [
    "# parse the data\n",
    "labels = []\n",
    "nodes = []\n",
    "X = []\n",
    "element_to_ind  = {}\n",
    "\n",
    "for i,data in enumerate(all_data):\n",
    "    elements = data.split('\\t')\n",
    "    labels.append(label_encoder[elements[-1]])\n",
    "    X.append(elements[1:-1])\n",
    "    nodes.append(elements[0])\n",
    "    element_to_ind[elements[0]]= i\n",
    "X = np.array(X,dtype=int)\n",
    "N = X.shape[0] # the number of nodes\n",
    "F = X.shape[1] # the size of node features\n",
    "print('X shape: ', X.shape)\n",
    "\n",
    "\n",
    "# parse the edge\n",
    "edge_list=[]\n",
    "for edge in all_edges:\n",
    "    e = edge.split('\\t')\n",
    "    edge_list.append((e[0],e[1]))\n",
    "\n",
    "print('\\nNumber of nodes (N): ', N)\n",
    "print('\\nNumber of features (F) of each node: ', F)\n",
    "print('\\nCategories: ', set(labels))\n",
    "\n",
    "num_classes = len(set(labels))\n",
    "print('\\nNumber of classes: ', num_classes)"
   ]
  },
  {
   "cell_type": "code",
   "execution_count": 5,
   "metadata": {
    "colab": {
     "base_uri": "https://localhost:8080/"
    },
    "id": "48rBL563ASCi",
    "outputId": "a8d22744-83d6-46ce-eb7a-2784c054db40"
   },
   "outputs": [
    {
     "name": "stdout",
     "output_type": "stream",
     "text": [
      "Number of nodes 2708\n",
      "Number of edges 5278\n",
      "Average degree 3.8980797636632203\n"
     ]
    }
   ],
   "source": [
    "G = nx.Graph()\n",
    "G.add_nodes_from(nodes)\n",
    "G.add_edges_from(edge_list)\n",
    "G = nx.relabel_nodes(G, element_to_ind)\n",
    "\n",
    "# module 'networkx' has no attribute 'info', which has been removed\n",
    "# print('Graph info: ', nx.info(G)) \n",
    "# instead, use the following\n",
    "print('Number of nodes', len(G.nodes))\n",
    "print('Number of edges', len(G.edges))\n",
    "print('Average degree', sum(dict(G.degree).values()) / len(G.nodes))"
   ]
  },
  {
   "cell_type": "code",
   "execution_count": 6,
   "metadata": {
    "colab": {
     "base_uri": "https://localhost:8080/"
    },
    "id": "gj733I7vC6IB",
    "outputId": "1f13d8ad-b058-42a8-c5ca-e0885f6560a3"
   },
   "outputs": [
    {
     "name": "stdout",
     "output_type": "stream",
     "text": [
      "2708\n"
     ]
    },
    {
     "data": {
      "text/plain": [
       "[258, 544, 8, 435, 14]"
      ]
     },
     "execution_count": 6,
     "metadata": {},
     "output_type": "execute_result"
    }
   ],
   "source": [
    "nodes = list(G.nodes)\n",
    "print(len(nodes))\n",
    "list(G.neighbors(0))"
   ]
  },
  {
   "cell_type": "code",
   "execution_count": 7,
   "metadata": {
    "colab": {
     "base_uri": "https://localhost:8080/",
     "height": 223
    },
    "id": "nz_MyTfnC6En",
    "outputId": "cf309e4e-c028-40fc-efbc-2056b24f444d"
   },
   "outputs": [
    {
     "name": "stdout",
     "output_type": "stream",
     "text": [
      "2708\n"
     ]
    },
    {
     "data": {
      "text/html": [
       "\n",
       "  <div id=\"df-196293e3-c407-4da4-aa14-8ba64cf90974\">\n",
       "    <div class=\"colab-df-container\">\n",
       "      <div>\n",
       "<style scoped>\n",
       "    .dataframe tbody tr th:only-of-type {\n",
       "        vertical-align: middle;\n",
       "    }\n",
       "\n",
       "    .dataframe tbody tr th {\n",
       "        vertical-align: top;\n",
       "    }\n",
       "\n",
       "    .dataframe thead th {\n",
       "        text-align: right;\n",
       "    }\n",
       "</style>\n",
       "<table border=\"1\" class=\"dataframe\">\n",
       "  <thead>\n",
       "    <tr style=\"text-align: right;\">\n",
       "      <th></th>\n",
       "      <th>node</th>\n",
       "      <th>label</th>\n",
       "      <th>features</th>\n",
       "    </tr>\n",
       "  </thead>\n",
       "  <tbody>\n",
       "    <tr>\n",
       "      <th>0</th>\n",
       "      <td>0</td>\n",
       "      <td>2</td>\n",
       "      <td>[0, 0, 0, 0, 0, 0, 0, 0, 0, 0, 0, 0, 0, 0, 0, ...</td>\n",
       "    </tr>\n",
       "    <tr>\n",
       "      <th>1</th>\n",
       "      <td>1</td>\n",
       "      <td>5</td>\n",
       "      <td>[0, 0, 0, 0, 0, 0, 0, 0, 0, 0, 0, 0, 1, 0, 0, ...</td>\n",
       "    </tr>\n",
       "    <tr>\n",
       "      <th>2</th>\n",
       "      <td>2</td>\n",
       "      <td>4</td>\n",
       "      <td>[0, 0, 0, 0, 0, 0, 0, 0, 0, 0, 0, 0, 0, 0, 0, ...</td>\n",
       "    </tr>\n",
       "    <tr>\n",
       "      <th>3</th>\n",
       "      <td>3</td>\n",
       "      <td>4</td>\n",
       "      <td>[0, 0, 0, 0, 0, 0, 0, 0, 0, 0, 0, 0, 0, 0, 0, ...</td>\n",
       "    </tr>\n",
       "    <tr>\n",
       "      <th>4</th>\n",
       "      <td>4</td>\n",
       "      <td>3</td>\n",
       "      <td>[0, 0, 0, 0, 0, 0, 0, 0, 0, 0, 0, 0, 0, 0, 0, ...</td>\n",
       "    </tr>\n",
       "  </tbody>\n",
       "</table>\n",
       "</div>\n",
       "      <button class=\"colab-df-convert\" onclick=\"convertToInteractive('df-196293e3-c407-4da4-aa14-8ba64cf90974')\"\n",
       "              title=\"Convert this dataframe to an interactive table.\"\n",
       "              style=\"display:none;\">\n",
       "        \n",
       "  <svg xmlns=\"http://www.w3.org/2000/svg\" height=\"24px\"viewBox=\"0 0 24 24\"\n",
       "       width=\"24px\">\n",
       "    <path d=\"M0 0h24v24H0V0z\" fill=\"none\"/>\n",
       "    <path d=\"M18.56 5.44l.94 2.06.94-2.06 2.06-.94-2.06-.94-.94-2.06-.94 2.06-2.06.94zm-11 1L8.5 8.5l.94-2.06 2.06-.94-2.06-.94L8.5 2.5l-.94 2.06-2.06.94zm10 10l.94 2.06.94-2.06 2.06-.94-2.06-.94-.94-2.06-.94 2.06-2.06.94z\"/><path d=\"M17.41 7.96l-1.37-1.37c-.4-.4-.92-.59-1.43-.59-.52 0-1.04.2-1.43.59L10.3 9.45l-7.72 7.72c-.78.78-.78 2.05 0 2.83L4 21.41c.39.39.9.59 1.41.59.51 0 1.02-.2 1.41-.59l7.78-7.78 2.81-2.81c.8-.78.8-2.07 0-2.86zM5.41 20L4 18.59l7.72-7.72 1.47 1.35L5.41 20z\"/>\n",
       "  </svg>\n",
       "      </button>\n",
       "      \n",
       "  <style>\n",
       "    .colab-df-container {\n",
       "      display:flex;\n",
       "      flex-wrap:wrap;\n",
       "      gap: 12px;\n",
       "    }\n",
       "\n",
       "    .colab-df-convert {\n",
       "      background-color: #E8F0FE;\n",
       "      border: none;\n",
       "      border-radius: 50%;\n",
       "      cursor: pointer;\n",
       "      display: none;\n",
       "      fill: #1967D2;\n",
       "      height: 32px;\n",
       "      padding: 0 0 0 0;\n",
       "      width: 32px;\n",
       "    }\n",
       "\n",
       "    .colab-df-convert:hover {\n",
       "      background-color: #E2EBFA;\n",
       "      box-shadow: 0px 1px 2px rgba(60, 64, 67, 0.3), 0px 1px 3px 1px rgba(60, 64, 67, 0.15);\n",
       "      fill: #174EA6;\n",
       "    }\n",
       "\n",
       "    [theme=dark] .colab-df-convert {\n",
       "      background-color: #3B4455;\n",
       "      fill: #D2E3FC;\n",
       "    }\n",
       "\n",
       "    [theme=dark] .colab-df-convert:hover {\n",
       "      background-color: #434B5C;\n",
       "      box-shadow: 0px 1px 3px 1px rgba(0, 0, 0, 0.15);\n",
       "      filter: drop-shadow(0px 1px 2px rgba(0, 0, 0, 0.3));\n",
       "      fill: #FFFFFF;\n",
       "    }\n",
       "  </style>\n",
       "\n",
       "      <script>\n",
       "        const buttonEl =\n",
       "          document.querySelector('#df-196293e3-c407-4da4-aa14-8ba64cf90974 button.colab-df-convert');\n",
       "        buttonEl.style.display =\n",
       "          google.colab.kernel.accessAllowed ? 'block' : 'none';\n",
       "\n",
       "        async function convertToInteractive(key) {\n",
       "          const element = document.querySelector('#df-196293e3-c407-4da4-aa14-8ba64cf90974');\n",
       "          const dataTable =\n",
       "            await google.colab.kernel.invokeFunction('convertToInteractive',\n",
       "                                                     [key], {});\n",
       "          if (!dataTable) return;\n",
       "\n",
       "          const docLinkHtml = 'Like what you see? Visit the ' +\n",
       "            '<a target=\"_blank\" href=https://colab.research.google.com/notebooks/data_table.ipynb>data table notebook</a>'\n",
       "            + ' to learn more about interactive tables.';\n",
       "          element.innerHTML = '';\n",
       "          dataTable['output_type'] = 'display_data';\n",
       "          await google.colab.output.renderOutput(dataTable, element);\n",
       "          const docLink = document.createElement('div');\n",
       "          docLink.innerHTML = docLinkHtml;\n",
       "          element.appendChild(docLink);\n",
       "        }\n",
       "      </script>\n",
       "    </div>\n",
       "  </div>\n",
       "  "
      ],
      "text/plain": [
       "   node  label                                           features\n",
       "0     0      2  [0, 0, 0, 0, 0, 0, 0, 0, 0, 0, 0, 0, 0, 0, 0, ...\n",
       "1     1      5  [0, 0, 0, 0, 0, 0, 0, 0, 0, 0, 0, 0, 1, 0, 0, ...\n",
       "2     2      4  [0, 0, 0, 0, 0, 0, 0, 0, 0, 0, 0, 0, 0, 0, 0, ...\n",
       "3     3      4  [0, 0, 0, 0, 0, 0, 0, 0, 0, 0, 0, 0, 0, 0, 0, ...\n",
       "4     4      3  [0, 0, 0, 0, 0, 0, 0, 0, 0, 0, 0, 0, 0, 0, 0, ..."
      ]
     },
     "execution_count": 7,
     "metadata": {},
     "output_type": "execute_result"
    }
   ],
   "source": [
    "df = pd.DataFrame(list(zip(nodes, labels, X)), columns=['node', 'label','features'])\n",
    "print(len(df))\n",
    "df.head()"
   ]
  },
  {
   "cell_type": "code",
   "execution_count": 8,
   "metadata": {
    "id": "8Fk9qrJCC6B_"
   },
   "outputs": [],
   "source": [
    "Gcc = sorted(nx.connected_components(G), key=len, reverse=True)\n",
    "G = G.subgraph(Gcc[0])\n",
    "gcc_nodes = list(G.nodes)"
   ]
  },
  {
   "cell_type": "code",
   "execution_count": 9,
   "metadata": {
    "colab": {
     "base_uri": "https://localhost:8080/",
     "height": 310
    },
    "id": "UEbZF5txC5_0",
    "outputId": "966c54e1-33e6-4efd-90e3-7e0baf583fe2"
   },
   "outputs": [
    {
     "name": "stderr",
     "output_type": "stream",
     "text": [
      "<ipython-input-9-67861b7df33b>:2: SettingWithCopyWarning: \n",
      "A value is trying to be set on a copy of a slice from a DataFrame.\n",
      "Try using .loc[row_indexer,col_indexer] = value instead\n",
      "\n",
      "See the caveats in the documentation: https://pandas.pydata.org/pandas-docs/stable/user_guide/indexing.html#returning-a-view-versus-a-copy\n",
      "  df['node'] = list(range(len(df))) # rename nodes\n"
     ]
    },
    {
     "data": {
      "text/html": [
       "\n",
       "  <div id=\"df-95ff80c3-cecb-4eb9-b24b-42c4d9a5e899\">\n",
       "    <div class=\"colab-df-container\">\n",
       "      <div>\n",
       "<style scoped>\n",
       "    .dataframe tbody tr th:only-of-type {\n",
       "        vertical-align: middle;\n",
       "    }\n",
       "\n",
       "    .dataframe tbody tr th {\n",
       "        vertical-align: top;\n",
       "    }\n",
       "\n",
       "    .dataframe thead th {\n",
       "        text-align: right;\n",
       "    }\n",
       "</style>\n",
       "<table border=\"1\" class=\"dataframe\">\n",
       "  <thead>\n",
       "    <tr style=\"text-align: right;\">\n",
       "      <th></th>\n",
       "      <th>node</th>\n",
       "      <th>label</th>\n",
       "      <th>features</th>\n",
       "    </tr>\n",
       "  </thead>\n",
       "  <tbody>\n",
       "    <tr>\n",
       "      <th>0</th>\n",
       "      <td>0</td>\n",
       "      <td>2</td>\n",
       "      <td>[0, 0, 0, 0, 0, 0, 0, 0, 0, 0, 0, 0, 0, 0, 0, ...</td>\n",
       "    </tr>\n",
       "    <tr>\n",
       "      <th>1</th>\n",
       "      <td>1</td>\n",
       "      <td>5</td>\n",
       "      <td>[0, 0, 0, 0, 0, 0, 0, 0, 0, 0, 0, 0, 1, 0, 0, ...</td>\n",
       "    </tr>\n",
       "    <tr>\n",
       "      <th>2</th>\n",
       "      <td>2</td>\n",
       "      <td>4</td>\n",
       "      <td>[0, 0, 0, 0, 0, 0, 0, 0, 0, 0, 0, 0, 0, 0, 0, ...</td>\n",
       "    </tr>\n",
       "    <tr>\n",
       "      <th>3</th>\n",
       "      <td>3</td>\n",
       "      <td>4</td>\n",
       "      <td>[0, 0, 0, 0, 0, 0, 0, 0, 0, 0, 0, 0, 0, 0, 0, ...</td>\n",
       "    </tr>\n",
       "    <tr>\n",
       "      <th>4</th>\n",
       "      <td>4</td>\n",
       "      <td>3</td>\n",
       "      <td>[0, 0, 0, 0, 0, 0, 0, 0, 0, 0, 0, 0, 0, 0, 0, ...</td>\n",
       "    </tr>\n",
       "  </tbody>\n",
       "</table>\n",
       "</div>\n",
       "      <button class=\"colab-df-convert\" onclick=\"convertToInteractive('df-95ff80c3-cecb-4eb9-b24b-42c4d9a5e899')\"\n",
       "              title=\"Convert this dataframe to an interactive table.\"\n",
       "              style=\"display:none;\">\n",
       "        \n",
       "  <svg xmlns=\"http://www.w3.org/2000/svg\" height=\"24px\"viewBox=\"0 0 24 24\"\n",
       "       width=\"24px\">\n",
       "    <path d=\"M0 0h24v24H0V0z\" fill=\"none\"/>\n",
       "    <path d=\"M18.56 5.44l.94 2.06.94-2.06 2.06-.94-2.06-.94-.94-2.06-.94 2.06-2.06.94zm-11 1L8.5 8.5l.94-2.06 2.06-.94-2.06-.94L8.5 2.5l-.94 2.06-2.06.94zm10 10l.94 2.06.94-2.06 2.06-.94-2.06-.94-.94-2.06-.94 2.06-2.06.94z\"/><path d=\"M17.41 7.96l-1.37-1.37c-.4-.4-.92-.59-1.43-.59-.52 0-1.04.2-1.43.59L10.3 9.45l-7.72 7.72c-.78.78-.78 2.05 0 2.83L4 21.41c.39.39.9.59 1.41.59.51 0 1.02-.2 1.41-.59l7.78-7.78 2.81-2.81c.8-.78.8-2.07 0-2.86zM5.41 20L4 18.59l7.72-7.72 1.47 1.35L5.41 20z\"/>\n",
       "  </svg>\n",
       "      </button>\n",
       "      \n",
       "  <style>\n",
       "    .colab-df-container {\n",
       "      display:flex;\n",
       "      flex-wrap:wrap;\n",
       "      gap: 12px;\n",
       "    }\n",
       "\n",
       "    .colab-df-convert {\n",
       "      background-color: #E8F0FE;\n",
       "      border: none;\n",
       "      border-radius: 50%;\n",
       "      cursor: pointer;\n",
       "      display: none;\n",
       "      fill: #1967D2;\n",
       "      height: 32px;\n",
       "      padding: 0 0 0 0;\n",
       "      width: 32px;\n",
       "    }\n",
       "\n",
       "    .colab-df-convert:hover {\n",
       "      background-color: #E2EBFA;\n",
       "      box-shadow: 0px 1px 2px rgba(60, 64, 67, 0.3), 0px 1px 3px 1px rgba(60, 64, 67, 0.15);\n",
       "      fill: #174EA6;\n",
       "    }\n",
       "\n",
       "    [theme=dark] .colab-df-convert {\n",
       "      background-color: #3B4455;\n",
       "      fill: #D2E3FC;\n",
       "    }\n",
       "\n",
       "    [theme=dark] .colab-df-convert:hover {\n",
       "      background-color: #434B5C;\n",
       "      box-shadow: 0px 1px 3px 1px rgba(0, 0, 0, 0.15);\n",
       "      filter: drop-shadow(0px 1px 2px rgba(0, 0, 0, 0.3));\n",
       "      fill: #FFFFFF;\n",
       "    }\n",
       "  </style>\n",
       "\n",
       "      <script>\n",
       "        const buttonEl =\n",
       "          document.querySelector('#df-95ff80c3-cecb-4eb9-b24b-42c4d9a5e899 button.colab-df-convert');\n",
       "        buttonEl.style.display =\n",
       "          google.colab.kernel.accessAllowed ? 'block' : 'none';\n",
       "\n",
       "        async function convertToInteractive(key) {\n",
       "          const element = document.querySelector('#df-95ff80c3-cecb-4eb9-b24b-42c4d9a5e899');\n",
       "          const dataTable =\n",
       "            await google.colab.kernel.invokeFunction('convertToInteractive',\n",
       "                                                     [key], {});\n",
       "          if (!dataTable) return;\n",
       "\n",
       "          const docLinkHtml = 'Like what you see? Visit the ' +\n",
       "            '<a target=\"_blank\" href=https://colab.research.google.com/notebooks/data_table.ipynb>data table notebook</a>'\n",
       "            + ' to learn more about interactive tables.';\n",
       "          element.innerHTML = '';\n",
       "          dataTable['output_type'] = 'display_data';\n",
       "          await google.colab.output.renderOutput(dataTable, element);\n",
       "          const docLink = document.createElement('div');\n",
       "          docLink.innerHTML = docLinkHtml;\n",
       "          element.appendChild(docLink);\n",
       "        }\n",
       "      </script>\n",
       "    </div>\n",
       "  </div>\n",
       "  "
      ],
      "text/plain": [
       "   node  label                                           features\n",
       "0     0      2  [0, 0, 0, 0, 0, 0, 0, 0, 0, 0, 0, 0, 0, 0, 0, ...\n",
       "1     1      5  [0, 0, 0, 0, 0, 0, 0, 0, 0, 0, 0, 0, 1, 0, 0, ...\n",
       "2     2      4  [0, 0, 0, 0, 0, 0, 0, 0, 0, 0, 0, 0, 0, 0, 0, ...\n",
       "3     3      4  [0, 0, 0, 0, 0, 0, 0, 0, 0, 0, 0, 0, 0, 0, 0, ...\n",
       "4     4      3  [0, 0, 0, 0, 0, 0, 0, 0, 0, 0, 0, 0, 0, 0, 0, ..."
      ]
     },
     "execution_count": 9,
     "metadata": {},
     "output_type": "execute_result"
    }
   ],
   "source": [
    "df = df.loc[df['node'].isin(gcc_nodes)]\n",
    "df['node'] = list(range(len(df))) # rename nodes \n",
    "df.head()"
   ]
  },
  {
   "cell_type": "code",
   "execution_count": 10,
   "metadata": {
    "id": "xFZFVVrLC59k"
   },
   "outputs": [],
   "source": [
    "train = df.groupby('label', group_keys=False).apply(lambda x: x.sample(20))\n",
    "G = nx.relabel_nodes(G, df['node'])"
   ]
  },
  {
   "cell_type": "code",
   "execution_count": 30,
   "metadata": {
    "id": "XpnlHMtTC57K"
   },
   "outputs": [],
   "source": [
    "def create_transition_matrix(g):\n",
    "    vs = list(g.nodes)\n",
    "    n = len(vs)\n",
    "    adj = nx.adjacency_matrix(g)\n",
    "    transition_matrix = adj/adj.sum(axis=1)\n",
    "\n",
    "    return transition_matrix\n",
    "\n",
    "\n",
    "def random_walk(g, num_steps, start_node, transition_matrix = None):\n",
    "  if transition_matrix is None:\n",
    "    transition_matrix = create_transition_matrix(g)\n",
    "  \n",
    "  # perform a random walk \n",
    "  walked_nodes = np.zeros(num_steps)\n",
    "  v = start_node\n",
    "  for i in range(num_steps):\n",
    "    PMF = transition_matrix[:, v]\n",
    "    v = int(np.random.choice(len(g.nodes), size=1, p=PMF))\n",
    "    walked_nodes[i] = v\n",
    "\n",
    "  return v\n",
    "\n",
    "\n",
    "seeds_dict = {predicted:list(train[train['label'] == predicted]['node']) \n",
    "              for predicted in range(7)}\n",
    "\n",
    "\n",
    "def random_walk_with_teleportation(g, num_steps, start_node, tp, \n",
    "                                   predicted, transition_matrix = None):\n",
    "  if transition_matrix is None:\n",
    "    transition_matrix = create_transition_matrix(g)\n",
    "  \n",
    "  # perform a random walk \n",
    "  walked_nodes = np.zeros(num_steps)\n",
    "  v = start_node\n",
    "  for i in range(num_steps):\n",
    "    if (np.random.random() > tp):\n",
    "      # no teleportation\n",
    "      PMF = transition_matrix[:, v]\n",
    "      v = int(np.random.choice(len(g.nodes), 1, p=PMF))\n",
    "    else:\n",
    "      # with teleportation (equal distribution)\n",
    "      # you can only teleport to a node belonging to the same class as seed documents\n",
    "      v = int(np.random.choice(seeds_dict[predicted], size=1))\n",
    "  \n",
    "    walked_nodes[i] = v\n",
    "\n",
    "  return v"
   ]
  },
  {
   "cell_type": "code",
   "execution_count": null,
   "metadata": {
    "colab": {
     "base_uri": "https://localhost:8080/"
    },
    "id": "_s011s1tIb-Z",
    "outputId": "3d049adf-5e5c-4ac2-e461-b493626602e8"
   },
   "outputs": [
    {
     "name": "stdout",
     "output_type": "stream",
     "text": [
      "unvisited =  1\n",
      "              precision    recall  f1-score   support\n",
      "\n",
      "           0       0.30      0.52      0.38       285\n",
      "           1       0.43      0.50      0.46       406\n",
      "           2       0.50      0.25      0.34       726\n",
      "           3       0.72      0.57      0.64       379\n",
      "           4       0.12      0.18      0.14       214\n",
      "           5       0.07      0.16      0.10       131\n",
      "           6       0.28      0.21      0.24       344\n",
      "\n",
      "    accuracy                           0.35      2485\n",
      "   macro avg       0.35      0.34      0.33      2485\n",
      "weighted avg       0.41      0.35      0.37      2485\n",
      "\n"
     ]
    },
    {
     "data": {
      "text/plain": [
       "0.35492957746478876"
      ]
     },
     "execution_count": 157,
     "metadata": {},
     "output_type": "execute_result"
    }
   ],
   "source": [
    "# pagerank. NO teleportation, NO tfidf. \n",
    "\n",
    "transition_matrix = create_transition_matrix(G)\n",
    "\n",
    "num_samples = 1000  \n",
    "num_walk_steps = 100\n",
    "\n",
    "visiting_freq_label = []\n",
    "for i in range(transition_matrix.shape[0]):\n",
    "  visiting_freq_label.append([0,0,0,0,0,0,0])\n",
    "\n",
    "visiting_freq = [0 for i in range(transition_matrix.shape[0])]\n",
    "\n",
    "for train_node,predicted in zip(train['node'],train['label']):\n",
    "  # print (train_node,predicted)\n",
    "  for i in range(num_samples):\n",
    "      start_point = train_node\n",
    "      end_node = random_walk(G, num_walk_steps, start_point, transition_matrix)\n",
    "      visiting_freq_label[end_node][predicted] += 1\n",
    "      visiting_freq[end_node] +=1\n",
    "\n",
    "count = 0 #these many nodes remain unvisited. \n",
    "\n",
    "for vf in visiting_freq:\n",
    "  if vf ==0:\n",
    "    count+=1\n",
    "print('unvisited = ', count)\n",
    "visiting_freq_label = np.asarray(visiting_freq_label)\n",
    "preds = np.argmax(visiting_freq_label,axis = 1)\n",
    "print(classification_report(df['label'], preds))\n",
    "accuracy_score(df['label'], preds)"
   ]
  },
  {
   "cell_type": "code",
   "execution_count": 31,
   "metadata": {
    "colab": {
     "base_uri": "https://localhost:8080/"
    },
    "id": "Fr7lsyfkZFPc",
    "outputId": "29758aaa-b4a1-4d8e-c4cd-e76a96eef485"
   },
   "outputs": [
    {
     "name": "stdout",
     "output_type": "stream",
     "text": [
      "\n",
      "Experiment with telportation probability: 0\n",
      "- unvisited =  0\n",
      "              precision    recall  f1-score   support\n",
      "\n",
      "           0       0.31      0.49      0.38       285\n",
      "           1       0.48      0.55      0.52       406\n",
      "           2       0.55      0.29      0.38       726\n",
      "           3       0.57      0.56      0.56       379\n",
      "           4       0.10      0.14      0.12       214\n",
      "           5       0.10      0.22      0.14       131\n",
      "           6       0.25      0.18      0.21       344\n",
      "\n",
      "    accuracy                           0.37      2485\n",
      "   macro avg       0.34      0.35      0.33      2485\n",
      "weighted avg       0.41      0.37      0.37      2485\n",
      "\n",
      "\n",
      "Experiment with telportation probability: 0.1\n",
      "- unvisited =  30\n",
      "              precision    recall  f1-score   support\n",
      "\n",
      "           0       0.62      0.74      0.67       285\n",
      "           1       0.81      0.84      0.83       406\n",
      "           2       0.87      0.52      0.65       726\n",
      "           3       0.76      0.81      0.78       379\n",
      "           4       0.56      0.81      0.66       214\n",
      "           5       0.50      0.84      0.62       131\n",
      "           6       0.59      0.61      0.60       344\n",
      "\n",
      "    accuracy                           0.69      2485\n",
      "   macro avg       0.67      0.74      0.69      2485\n",
      "weighted avg       0.73      0.69      0.69      2485\n",
      "\n",
      "\n",
      "Experiment with telportation probability: 0.2\n",
      "- unvisited =  64\n",
      "              precision    recall  f1-score   support\n",
      "\n",
      "           0       0.55      0.74      0.63       285\n",
      "           1       0.80      0.83      0.81       406\n",
      "           2       0.87      0.50      0.63       726\n",
      "           3       0.76      0.78      0.77       379\n",
      "           4       0.52      0.76      0.61       214\n",
      "           5       0.51      0.82      0.63       131\n",
      "           6       0.59      0.61      0.60       344\n",
      "\n",
      "    accuracy                           0.68      2485\n",
      "   macro avg       0.66      0.72      0.67      2485\n",
      "weighted avg       0.72      0.68      0.68      2485\n",
      "\n"
     ]
    }
   ],
   "source": [
    "# pagerank. WITH telportation, without tfidf \n",
    "\n",
    "transition_matrix = create_transition_matrix(G)\n",
    "\n",
    "num_samples = 1000  \n",
    "num_walk_steps = 100\n",
    "\n",
    "tps = [0, 0.1, 0.2]\n",
    "\n",
    "for tp in tps:\n",
    "  visiting_freq_label = []\n",
    "  for i in range(transition_matrix.shape[0]):\n",
    "    visiting_freq_label.append([0,0,0,0,0,0,0])\n",
    "\n",
    "  visiting_freq = [0 for i in range(transition_matrix.shape[0])]\n",
    "\n",
    "  for train_node, predicted in zip(train['node'], train['label']):\n",
    "    # print (train_node,predicted)\n",
    "    for i in range(num_samples):\n",
    "        start_point = train_node\n",
    "        end_node = random_walk_with_teleportation(G, num_walk_steps, start_point, \n",
    "                                                  tp, predicted, transition_matrix)\n",
    "        visiting_freq_label[end_node][predicted] += 1\n",
    "        visiting_freq[end_node] +=1\n",
    "\n",
    "  count = 0 #these many nodes remain unvisited. \n",
    "\n",
    "  for vf in visiting_freq:\n",
    "    if vf ==0:\n",
    "      count+=1\n",
    "  print(\"\\nExperiment with telportation probability: {}\".format(tp))\n",
    "  print('- unvisited = ', count)\n",
    "  visiting_freq_label = np.asarray(visiting_freq_label)\n",
    "  preds = np.argmax(visiting_freq_label,axis = 1)\n",
    "  print(classification_report(df['label'], preds))\n",
    "  accuracy_score(df['label'], preds)"
   ]
  },
  {
   "cell_type": "code",
   "execution_count": 70,
   "metadata": {
    "id": "6GN-yuzAIb7-"
   },
   "outputs": [],
   "source": [
    "vs = list(G.nodes)\n",
    "n = len(vs)\n",
    "adj = nx.adjacency_matrix(G)\n",
    "transition = np.zeros((len(G.nodes), len(G.nodes)))\n",
    "\n",
    "#for n1 in nodes:\n",
    "  #for n2 in nodes:\n",
    "    # if there is an edge between n1 and n2:\n",
    "      # cos_sim = compute cosine similarity between features of n1 and n2\n",
    "      # transition[n1,n2] = np.exp(cos_sim) #neumerator of softmax. #why do we need softmax?  \n",
    "#divide the values in transition by denominator of softmax. how will you do this? \n",
    "\n",
    "for i in range(n):\n",
    "  A = df['features'].to_numpy()[i]\n",
    "  for j in range(n):\n",
    "    B = df['features'].to_numpy()[j]\n",
    "    if adj[i, j] == 1:\n",
    "      cos_sim = np.dot(A, B)/(np.linalg.norm(A)*np.linalg.norm(B))\n",
    "      transition[i, j] = np.exp(cos_sim)\n",
    "\n",
    "transition /= np.sum(transition, axis=0, keepdims=True)"
   ]
  },
  {
   "cell_type": "code",
   "execution_count": 73,
   "metadata": {
    "colab": {
     "base_uri": "https://localhost:8080/"
    },
    "id": "12YtXMgUIb5k",
    "outputId": "819fc445-d435-4ac8-e784-b48b4a895c3b"
   },
   "outputs": [
    {
     "name": "stdout",
     "output_type": "stream",
     "text": [
      "Pagerank (without teleportation but with TFIDF)\n",
      "unvisited =  0\n",
      "              precision    recall  f1-score   support\n",
      "\n",
      "           0       0.35      0.54      0.42       285\n",
      "           1       0.51      0.55      0.53       406\n",
      "           2       0.60      0.32      0.42       726\n",
      "           3       0.59      0.57      0.58       379\n",
      "           4       0.13      0.18      0.15       214\n",
      "           5       0.14      0.31      0.20       131\n",
      "           6       0.28      0.22      0.25       344\n",
      "\n",
      "    accuracy                           0.40      2485\n",
      "   macro avg       0.37      0.39      0.36      2485\n",
      "weighted avg       0.45      0.40      0.40      2485\n",
      "\n"
     ]
    },
    {
     "data": {
      "text/plain": [
       "0.39517102615694166"
      ]
     },
     "execution_count": 73,
     "metadata": {},
     "output_type": "execute_result"
    }
   ],
   "source": [
    "# pagerank. Without teleportation. WITH TFIDF \n",
    "\n",
    "transition_matrix = transition\n",
    "\n",
    "# perfrom pagerank using our tf_idf based transition matrix\n",
    "# use randon walk without teleporation \n",
    "# get metrics\n",
    "\n",
    "num_samples = 1000  \n",
    "num_walk_steps = 100\n",
    "\n",
    "visiting_freq_label = []\n",
    "for i in range(transition_matrix.shape[0]):\n",
    "  visiting_freq_label.append([0,0,0,0,0,0,0])\n",
    "\n",
    "visiting_freq = [0 for i in range(transition_matrix.shape[0])]\n",
    "\n",
    "for train_node,predicted in zip(train['node'],train['label']):\n",
    "  # print (train_node,predicted)\n",
    "  for i in range(num_samples):\n",
    "      start_point = train_node\n",
    "      end_node = random_walk(G, num_walk_steps, start_point, transition_matrix)\n",
    "      visiting_freq_label[end_node][predicted] += 1\n",
    "      visiting_freq[end_node] +=1\n",
    "\n",
    "count = 0 #these many nodes remain unvisited. \n",
    "\n",
    "for vf in visiting_freq:\n",
    "  if vf ==0:\n",
    "    count+=1\n",
    "print(\"Pagerank (without teleportation but with TFIDF)\")\n",
    "print('unvisited = ', count)\n",
    "visiting_freq_label = np.asarray(visiting_freq_label)\n",
    "preds = np.argmax(visiting_freq_label,axis = 1)\n",
    "print(classification_report(df['label'], preds))\n",
    "accuracy_score(df['label'], preds)"
   ]
  },
  {
   "cell_type": "code",
   "execution_count": 74,
   "metadata": {
    "colab": {
     "base_uri": "https://localhost:8080/"
    },
    "id": "-raHGtizb8XN",
    "outputId": "5761997f-f599-427b-cc3d-a6f647defb10"
   },
   "outputs": [
    {
     "name": "stdout",
     "output_type": "stream",
     "text": [
      "Pagerank (with teleportation and with TFIDF)\n",
      "\n",
      "Experiment with telportation probability: 0\n",
      "- unvisited =  0\n",
      "              precision    recall  f1-score   support\n",
      "\n",
      "           0       0.35      0.55      0.43       285\n",
      "           1       0.46      0.52      0.49       406\n",
      "           2       0.59      0.33      0.42       726\n",
      "           3       0.54      0.54      0.54       379\n",
      "           4       0.13      0.16      0.14       214\n",
      "           5       0.10      0.22      0.14       131\n",
      "           6       0.31      0.23      0.26       344\n",
      "\n",
      "    accuracy                           0.38      2485\n",
      "   macro avg       0.36      0.36      0.35      2485\n",
      "weighted avg       0.43      0.38      0.39      2485\n",
      "\n",
      "Pagerank (with teleportation and with TFIDF)\n",
      "\n",
      "Experiment with telportation probability: 0.1\n",
      "- unvisited =  19\n",
      "              precision    recall  f1-score   support\n",
      "\n",
      "           0       0.62      0.75      0.68       285\n",
      "           1       0.82      0.84      0.83       406\n",
      "           2       0.88      0.55      0.68       726\n",
      "           3       0.76      0.81      0.78       379\n",
      "           4       0.56      0.80      0.66       214\n",
      "           5       0.50      0.85      0.63       131\n",
      "           6       0.61      0.61      0.61       344\n",
      "\n",
      "    accuracy                           0.70      2485\n",
      "   macro avg       0.68      0.74      0.69      2485\n",
      "weighted avg       0.74      0.70      0.70      2485\n",
      "\n",
      "Pagerank (with teleportation and with TFIDF)\n",
      "\n",
      "Experiment with telportation probability: 0.2\n",
      "- unvisited =  74\n",
      "              precision    recall  f1-score   support\n",
      "\n",
      "           0       0.53      0.72      0.61       285\n",
      "           1       0.81      0.82      0.82       406\n",
      "           2       0.86      0.50      0.63       726\n",
      "           3       0.76      0.76      0.76       379\n",
      "           4       0.53      0.77      0.62       214\n",
      "           5       0.53      0.82      0.64       131\n",
      "           6       0.58      0.61      0.59       344\n",
      "\n",
      "    accuracy                           0.67      2485\n",
      "   macro avg       0.66      0.72      0.67      2485\n",
      "weighted avg       0.71      0.67      0.67      2485\n",
      "\n"
     ]
    }
   ],
   "source": [
    "#pagerank. WITH teleportation WITH TFIDF\n",
    "transition_matrix = transition\n",
    "\n",
    "#same as above, except use random walk with teleportation \n",
    "#get metrics\n",
    "\n",
    "num_samples = 1000  \n",
    "num_walk_steps = 100\n",
    "\n",
    "tps = [0, 0.1, 0.2]\n",
    "\n",
    "for tp in tps:\n",
    "  visiting_freq_label = []\n",
    "  for i in range(transition_matrix.shape[0]):\n",
    "    visiting_freq_label.append([0,0,0,0,0,0,0])\n",
    "\n",
    "  visiting_freq = [0 for i in range(transition_matrix.shape[0])]\n",
    "\n",
    "  for train_node, predicted in zip(train['node'], train['label']):\n",
    "    # print (train_node,predicted)\n",
    "    for i in range(num_samples):\n",
    "        start_point = train_node\n",
    "        end_node = random_walk_with_teleportation(G, num_walk_steps, start_point, \n",
    "                                                  tp, predicted, transition_matrix)\n",
    "        visiting_freq_label[end_node][predicted] += 1\n",
    "        visiting_freq[end_node] +=1\n",
    "\n",
    "  count = 0 #these many nodes remain unvisited. \n",
    "\n",
    "  for vf in visiting_freq:\n",
    "    if vf ==0:\n",
    "      count+=1\n",
    "  print(\"Pagerank (with teleportation and with TFIDF)\")\n",
    "  print(\"\\nExperiment with telportation probability: {}\".format(tp))\n",
    "  print('- unvisited = ', count)\n",
    "  visiting_freq_label = np.asarray(visiting_freq_label)\n",
    "  preds = np.argmax(visiting_freq_label,axis = 1)\n",
    "  print(classification_report(df['label'], preds))\n",
    "  accuracy_score(df['label'], preds)"
   ]
  },
  {
   "cell_type": "markdown",
   "metadata": {
    "id": "NX4CPYsKCBgy"
   },
   "source": [
    "<div class=\"alert alert-block alert-success\">\n",
    "<b>Answer 25:</b> The accuracy and f1 scores for each eperiment with/without teleportation or TFIDF are reported above. Overall, the best model here is with teleportation at a probability of 10% and with TFIDF, which results in highest accuracy of 70%. Moreover, adding teleportation or TFIDF, in general, increases the model performance, which can be proven by the experiments above. \n",
    "\n",
    "As for the question asked in calculating the probability of transitioning to each neighbor, we need softmax because it is crucial for transforming model outputs into meaningful probabilities, enabling multiclass classification, facilitating the training process, and supporting gradient computation for efficient learning as well as avoding exploding gradients. To compute this, I first utilize the exponetial function to convert each cosine similarity values in transition matrix and then apply vectorization technique to divide the values in each column of transition matrix by the corresponding denominator, which is the sum of that column.\n",
    "\n",
    "</div>"
   ]
  }
 ],
 "metadata": {
  "colab": {
   "provenance": []
  },
  "kernelspec": {
   "display_name": "Python 3 (ipykernel)",
   "language": "python",
   "name": "python3"
  },
  "language_info": {
   "codemirror_mode": {
    "name": "ipython",
    "version": 3
   },
   "file_extension": ".py",
   "mimetype": "text/x-python",
   "name": "python",
   "nbconvert_exporter": "python",
   "pygments_lexer": "ipython3",
   "version": "3.8.3"
  }
 },
 "nbformat": 4,
 "nbformat_minor": 1
}
